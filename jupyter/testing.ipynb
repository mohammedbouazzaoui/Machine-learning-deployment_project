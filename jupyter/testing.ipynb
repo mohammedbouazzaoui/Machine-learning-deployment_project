{
 "cells": [
  {
   "cell_type": "markdown",
   "metadata": {},
   "source": [
    "# Multiple linear regression."
   ]
  },
  {
   "cell_type": "markdown",
   "metadata": {},
   "source": [
    "Unlike the simple linear regression model, the multiple linear regression model is defined as any linear regression model with at least two explanatory variables. But what do we do when we have several variables? This is what we will see in this chapter. And you will finally be able to measure all the power of linear regression despite its simplicity!\n",
    "\n",
    "\n",
    "## Variables studied"
   ]
  },
  {
   "cell_type": "markdown",
   "metadata": {},
   "source": [
    "First of all, we will load our dataset. This is a fake Dataset for the example. "
   ]
  },
  {
   "cell_type": "code",
   "execution_count": 1,
   "metadata": {},
   "outputs": [
    {
     "ename": "SyntaxError",
     "evalue": "invalid syntax (series.py, line 1051)",
     "output_type": "error",
     "traceback": [
      "Traceback \u001b[1;36m(most recent call last)\u001b[0m:\n",
      "  File \u001b[0;32m\"C:\\Users\\bmadmin\\anaconda3\\lib\\site-packages\\IPython\\core\\interactiveshell.py\"\u001b[0m, line \u001b[0;32m3444\u001b[0m, in \u001b[0;35mrun_code\u001b[0m\n    exec(code_obj, self.user_global_ns, self.user_ns)\n",
      "  File \u001b[0;32m\"C:\\Users\\bmadmin\\AppData\\Local\\Temp/ipykernel_10824/4080736814.py\"\u001b[0m, line \u001b[0;32m1\u001b[0m, in \u001b[0;35m<module>\u001b[0m\n    import pandas as pd\n",
      "  File \u001b[0;32m\"C:\\Users\\bmadmin\\anaconda3\\lib\\site-packages\\pandas\\__init__.py\"\u001b[0m, line \u001b[0;32m50\u001b[0m, in \u001b[0;35m<module>\u001b[0m\n    from pandas.core.api import (\n",
      "  File \u001b[0;32m\"C:\\Users\\bmadmin\\anaconda3\\lib\\site-packages\\pandas\\core\\api.py\"\u001b[0m, line \u001b[0;32m48\u001b[0m, in \u001b[0;35m<module>\u001b[0m\n    from pandas.core.groupby import (\n",
      "  File \u001b[0;32m\"C:\\Users\\bmadmin\\anaconda3\\lib\\site-packages\\pandas\\core\\groupby\\__init__.py\"\u001b[0m, line \u001b[0;32m1\u001b[0m, in \u001b[0;35m<module>\u001b[0m\n    from pandas.core.groupby.generic import (\n",
      "  File \u001b[0;32m\"C:\\Users\\bmadmin\\anaconda3\\lib\\site-packages\\pandas\\core\\groupby\\generic.py\"\u001b[0m, line \u001b[0;32m73\u001b[0m, in \u001b[0;35m<module>\u001b[0m\n    from pandas.core.frame import DataFrame\n",
      "\u001b[1;36m  File \u001b[1;32m\"C:\\Users\\bmadmin\\anaconda3\\lib\\site-packages\\pandas\\core\\frame.py\"\u001b[1;36m, line \u001b[1;32m193\u001b[1;36m, in \u001b[1;35m<module>\u001b[1;36m\u001b[0m\n\u001b[1;33m    from pandas.core.series import Series\u001b[0m\n",
      "\u001b[1;36m  File \u001b[1;32m\"C:\\Users\\bmadmin\\anaconda3\\lib\\site-packages\\pandas\\core\\series.py\"\u001b[1;36m, line \u001b[1;32m1051\u001b[0m\n\u001b[1;33m    df        loc = self.index.get_loc(label)\u001b[0m\n\u001b[1;37m              ^\u001b[0m\n\u001b[1;31mSyntaxError\u001b[0m\u001b[1;31m:\u001b[0m invalid syntax\n"
     ]
    }
   ],
   "source": [
    "import pandas as pd"
   ]
  },
  {
   "cell_type": "code",
   "execution_count": 116,
   "metadata": {},
   "outputs": [
    {
     "name": "stdout",
     "output_type": "stream",
     "text": [
      "@@@@ classified.type\n",
      "0             house\n",
      "1             house\n",
      "2             house\n",
      "3       house group\n",
      "4       house group\n",
      "           ...     \n",
      "8286      apartment\n",
      "8287      apartment\n",
      "8288      apartment\n",
      "8289          house\n",
      "8290          house\n",
      "Name: classified.type, Length: 8291, dtype: object\n",
      "@@@@ classified.subtype\n",
      "0              house\n",
      "1              house\n",
      "2              house\n",
      "3        house group\n",
      "4        house group\n",
      "            ...     \n",
      "8286       apartment\n",
      "8287    ground floor\n",
      "8288    ground floor\n",
      "8289           house\n",
      "8290           house\n",
      "Name: classified.subtype, Length: 8291, dtype: object\n",
      "@@@@ classified.price\n",
      "0               1325000\n",
      "1                338744\n",
      "2               2950000\n",
      "3       283000 - 304000\n",
      "4       220000 - 259000\n",
      "             ...       \n",
      "8286             295000\n",
      "8287             269000\n",
      "8288             269000\n",
      "8289             225000\n",
      "8290             225000\n",
      "Name: classified.price, Length: 8291, dtype: object\n",
      "@@@@ classified.transactionType\n",
      "0       for sale\n",
      "1       for sale\n",
      "2       for sale\n",
      "3       for sale\n",
      "4       for sale\n",
      "          ...   \n",
      "8286    for sale\n",
      "8287    for sale\n",
      "8288    for sale\n",
      "8289    for sale\n",
      "8290    for sale\n",
      "Name: classified.transactionType, Length: 8291, dtype: object\n",
      "@@@@ classified.zip\n",
      "0       1190\n",
      "1       3520\n",
      "2       1050\n",
      "3       3900\n",
      "4       6150\n",
      "        ... \n",
      "8286    1050\n",
      "8287    1500\n",
      "8288    1502\n",
      "8289    9030\n",
      "8290    9030\n",
      "Name: classified.zip, Length: 8291, dtype: object\n",
      "@@@@ classified.kitchen.type\n",
      "0        not installed\n",
      "1            installed\n",
      "2       hyper equipped\n",
      "3                 None\n",
      "4                 None\n",
      "             ...      \n",
      "8286              None\n",
      "8287              None\n",
      "8288              None\n",
      "8289     semi equipped\n",
      "8290     semi equipped\n",
      "Name: classified.kitchen.type, Length: 8291, dtype: object\n",
      "@@@@ classified.building.constructionYear\n",
      "0       1922\n",
      "1       2022\n",
      "2       1984\n",
      "3       None\n",
      "4       None\n",
      "        ... \n",
      "8286    1910\n",
      "8287    None\n",
      "8288    None\n",
      "8289    None\n",
      "8290    None\n",
      "Name: classified.building.constructionYear, Length: 8291, dtype: object\n",
      "@@@@ classified.building.condition\n",
      "0                 good\n",
      "1                 None\n",
      "2               as new\n",
      "3                 None\n",
      "4                 None\n",
      "             ...      \n",
      "8286              good\n",
      "8287    just renovated\n",
      "8288    just renovated\n",
      "8289       to renovate\n",
      "8290       to renovate\n",
      "Name: classified.building.condition, Length: 8291, dtype: object\n",
      "@@@@ classified.energy.heatingType\n",
      "0       fueloil\n",
      "1           gas\n",
      "2          None\n",
      "3          None\n",
      "4          None\n",
      "         ...   \n",
      "8286        gas\n",
      "8287        gas\n",
      "8288        gas\n",
      "8289        gas\n",
      "8290        gas\n",
      "Name: classified.energy.heatingType, Length: 8291, dtype: object\n",
      "@@@@ classified.certificates.primaryEnergyConsumptionLevel\n",
      "0        534\n",
      "1       None\n",
      "2        319\n",
      "3       None\n",
      "4       None\n",
      "        ... \n",
      "8286    None\n",
      "8287    None\n",
      "8288    None\n",
      "8289     475\n",
      "8290     626\n",
      "Name: classified.certificates.primaryEnergyConsumptionLevel, Length: 8291, dtype: object\n",
      "@@@@ classified.bedroom.count\n",
      "0          6\n",
      "1          3\n",
      "2          2\n",
      "3       None\n",
      "4       None\n",
      "        ... \n",
      "8286       1\n",
      "8287       2\n",
      "8288       2\n",
      "8289       3\n",
      "8290       3\n",
      "Name: classified.bedroom.count, Length: 8291, dtype: object\n",
      "@@@@ classified.land.surface\n",
      "0        800\n",
      "1        370\n",
      "2        180\n",
      "3       None\n",
      "4       None\n",
      "        ... \n",
      "8286    None\n",
      "8287    None\n",
      "8288    None\n",
      "8289     238\n",
      "8290     250\n",
      "Name: classified.land.surface, Length: 8291, dtype: object\n",
      "@@@@ classified.atticExists\n",
      "0       0\n",
      "1       0\n",
      "2       0\n",
      "3       0\n",
      "4       0\n",
      "       ..\n",
      "8286    0\n",
      "8287    0\n",
      "8288    0\n",
      "8289    1\n",
      "8290    1\n",
      "Name: classified.atticExists, Length: 8291, dtype: int64\n",
      "@@@@ classified.basementExists\n"
     ]
    },
    {
     "ename": "KeyError",
     "evalue": "'classified.basementExists'",
     "output_type": "error",
     "traceback": [
      "\u001b[1;31m---------------------------------------------------------------------------\u001b[0m",
      "\u001b[1;31mKeyError\u001b[0m                                  Traceback (most recent call last)",
      "\u001b[1;32m~\\anaconda3\\lib\\site-packages\\pandas\\core\\indexes\\base.py\u001b[0m in \u001b[0;36mget_loc\u001b[1;34m(self, key, method, tolerance)\u001b[0m\n\u001b[0;32m   3360\u001b[0m             \u001b[1;32mtry\u001b[0m\u001b[1;33m:\u001b[0m\u001b[1;33m\u001b[0m\u001b[1;33m\u001b[0m\u001b[0m\n\u001b[1;32m-> 3361\u001b[1;33m                 \u001b[1;32mreturn\u001b[0m \u001b[0mself\u001b[0m\u001b[1;33m.\u001b[0m\u001b[0m_engine\u001b[0m\u001b[1;33m.\u001b[0m\u001b[0mget_loc\u001b[0m\u001b[1;33m(\u001b[0m\u001b[0mcasted_key\u001b[0m\u001b[1;33m)\u001b[0m\u001b[1;33m\u001b[0m\u001b[1;33m\u001b[0m\u001b[0m\n\u001b[0m\u001b[0;32m   3362\u001b[0m             \u001b[1;32mexcept\u001b[0m \u001b[0mKeyError\u001b[0m \u001b[1;32mas\u001b[0m \u001b[0merr\u001b[0m\u001b[1;33m:\u001b[0m\u001b[1;33m\u001b[0m\u001b[1;33m\u001b[0m\u001b[0m\n",
      "\u001b[1;32m~\\anaconda3\\lib\\site-packages\\pandas\\_libs\\index.pyx\u001b[0m in \u001b[0;36mpandas._libs.index.IndexEngine.get_loc\u001b[1;34m()\u001b[0m\n",
      "\u001b[1;32m~\\anaconda3\\lib\\site-packages\\pandas\\_libs\\index.pyx\u001b[0m in \u001b[0;36mpandas._libs.index.IndexEngine.get_loc\u001b[1;34m()\u001b[0m\n",
      "\u001b[1;32mpandas\\_libs\\hashtable_class_helper.pxi\u001b[0m in \u001b[0;36mpandas._libs.hashtable.PyObjectHashTable.get_item\u001b[1;34m()\u001b[0m\n",
      "\u001b[1;32mpandas\\_libs\\hashtable_class_helper.pxi\u001b[0m in \u001b[0;36mpandas._libs.hashtable.PyObjectHashTable.get_item\u001b[1;34m()\u001b[0m\n",
      "\u001b[1;31mKeyError\u001b[0m: 'classified.basementExists'",
      "\nThe above exception was the direct cause of the following exception:\n",
      "\u001b[1;31mKeyError\u001b[0m                                  Traceback (most recent call last)",
      "\u001b[1;32m~\\AppData\\Local\\Temp/ipykernel_10332/1170316449.py\u001b[0m in \u001b[0;36m<module>\u001b[1;34m\u001b[0m\n\u001b[0;32m     11\u001b[0m \u001b[1;32mfor\u001b[0m \u001b[0mi\u001b[0m \u001b[1;32min\u001b[0m \u001b[0mkeep\u001b[0m\u001b[1;33m:\u001b[0m\u001b[1;33m\u001b[0m\u001b[1;33m\u001b[0m\u001b[0m\n\u001b[0;32m     12\u001b[0m     \u001b[0mprint\u001b[0m\u001b[1;33m(\u001b[0m\u001b[1;34m\"@@@@\"\u001b[0m\u001b[1;33m,\u001b[0m\u001b[0mi\u001b[0m\u001b[1;33m)\u001b[0m\u001b[1;33m\u001b[0m\u001b[1;33m\u001b[0m\u001b[0m\n\u001b[1;32m---> 13\u001b[1;33m     \u001b[0mprint\u001b[0m\u001b[1;33m(\u001b[0m\u001b[0mdf\u001b[0m\u001b[1;33m[\u001b[0m\u001b[0mi\u001b[0m\u001b[1;33m]\u001b[0m\u001b[1;33m)\u001b[0m\u001b[1;33m\u001b[0m\u001b[1;33m\u001b[0m\u001b[0m\n\u001b[0m\u001b[0;32m     14\u001b[0m \u001b[1;31m#print(df.columns)\u001b[0m\u001b[1;33m\u001b[0m\u001b[1;33m\u001b[0m\u001b[0m\n\u001b[0;32m     15\u001b[0m \u001b[1;33m\u001b[0m\u001b[0m\n",
      "\u001b[1;32m~\\anaconda3\\lib\\site-packages\\pandas\\core\\frame.py\u001b[0m in \u001b[0;36m__getitem__\u001b[1;34m(self, key)\u001b[0m\n\u001b[0;32m   3456\u001b[0m             \u001b[1;32mif\u001b[0m \u001b[0mself\u001b[0m\u001b[1;33m.\u001b[0m\u001b[0mcolumns\u001b[0m\u001b[1;33m.\u001b[0m\u001b[0mnlevels\u001b[0m \u001b[1;33m>\u001b[0m \u001b[1;36m1\u001b[0m\u001b[1;33m:\u001b[0m\u001b[1;33m\u001b[0m\u001b[1;33m\u001b[0m\u001b[0m\n\u001b[0;32m   3457\u001b[0m                 \u001b[1;32mreturn\u001b[0m \u001b[0mself\u001b[0m\u001b[1;33m.\u001b[0m\u001b[0m_getitem_multilevel\u001b[0m\u001b[1;33m(\u001b[0m\u001b[0mkey\u001b[0m\u001b[1;33m)\u001b[0m\u001b[1;33m\u001b[0m\u001b[1;33m\u001b[0m\u001b[0m\n\u001b[1;32m-> 3458\u001b[1;33m             \u001b[0mindexer\u001b[0m \u001b[1;33m=\u001b[0m \u001b[0mself\u001b[0m\u001b[1;33m.\u001b[0m\u001b[0mcolumns\u001b[0m\u001b[1;33m.\u001b[0m\u001b[0mget_loc\u001b[0m\u001b[1;33m(\u001b[0m\u001b[0mkey\u001b[0m\u001b[1;33m)\u001b[0m\u001b[1;33m\u001b[0m\u001b[1;33m\u001b[0m\u001b[0m\n\u001b[0m\u001b[0;32m   3459\u001b[0m             \u001b[1;32mif\u001b[0m \u001b[0mis_integer\u001b[0m\u001b[1;33m(\u001b[0m\u001b[0mindexer\u001b[0m\u001b[1;33m)\u001b[0m\u001b[1;33m:\u001b[0m\u001b[1;33m\u001b[0m\u001b[1;33m\u001b[0m\u001b[0m\n\u001b[0;32m   3460\u001b[0m                 \u001b[0mindexer\u001b[0m \u001b[1;33m=\u001b[0m \u001b[1;33m[\u001b[0m\u001b[0mindexer\u001b[0m\u001b[1;33m]\u001b[0m\u001b[1;33m\u001b[0m\u001b[1;33m\u001b[0m\u001b[0m\n",
      "\u001b[1;32m~\\anaconda3\\lib\\site-packages\\pandas\\core\\indexes\\base.py\u001b[0m in \u001b[0;36mget_loc\u001b[1;34m(self, key, method, tolerance)\u001b[0m\n\u001b[0;32m   3361\u001b[0m                 \u001b[1;32mreturn\u001b[0m \u001b[0mself\u001b[0m\u001b[1;33m.\u001b[0m\u001b[0m_engine\u001b[0m\u001b[1;33m.\u001b[0m\u001b[0mget_loc\u001b[0m\u001b[1;33m(\u001b[0m\u001b[0mcasted_key\u001b[0m\u001b[1;33m)\u001b[0m\u001b[1;33m\u001b[0m\u001b[1;33m\u001b[0m\u001b[0m\n\u001b[0;32m   3362\u001b[0m             \u001b[1;32mexcept\u001b[0m \u001b[0mKeyError\u001b[0m \u001b[1;32mas\u001b[0m \u001b[0merr\u001b[0m\u001b[1;33m:\u001b[0m\u001b[1;33m\u001b[0m\u001b[1;33m\u001b[0m\u001b[0m\n\u001b[1;32m-> 3363\u001b[1;33m                 \u001b[1;32mraise\u001b[0m \u001b[0mKeyError\u001b[0m\u001b[1;33m(\u001b[0m\u001b[0mkey\u001b[0m\u001b[1;33m)\u001b[0m \u001b[1;32mfrom\u001b[0m \u001b[0merr\u001b[0m\u001b[1;33m\u001b[0m\u001b[1;33m\u001b[0m\u001b[0m\n\u001b[0m\u001b[0;32m   3364\u001b[0m \u001b[1;33m\u001b[0m\u001b[0m\n\u001b[0;32m   3365\u001b[0m         \u001b[1;32mif\u001b[0m \u001b[0mis_scalar\u001b[0m\u001b[1;33m(\u001b[0m\u001b[0mkey\u001b[0m\u001b[1;33m)\u001b[0m \u001b[1;32mand\u001b[0m \u001b[0misna\u001b[0m\u001b[1;33m(\u001b[0m\u001b[0mkey\u001b[0m\u001b[1;33m)\u001b[0m \u001b[1;32mand\u001b[0m \u001b[1;32mnot\u001b[0m \u001b[0mself\u001b[0m\u001b[1;33m.\u001b[0m\u001b[0mhasnans\u001b[0m\u001b[1;33m:\u001b[0m\u001b[1;33m\u001b[0m\u001b[1;33m\u001b[0m\u001b[0m\n",
      "\u001b[1;31mKeyError\u001b[0m: 'classified.basementExists'"
     ]
    }
   ],
   "source": [
    "\n",
    "import pandas as pd\n",
    "inputfile = \"../data/data_homes.csv\"\n",
    "df=pd.read_csv(inputfile,delimiter=\",\")\n",
    "\n",
    "df.head()\n",
    "#df['classified.price']\n",
    "# Cleaning steps\n",
    "# remove unnecessary columns\n",
    "keep= [\"classified.type\",\"classified.subtype\",\"classified.price\",\"classified.transactionType\",\"classified.zip\",\"classified.kitchen.type\",\"classified.building.constructionYear\",\"classified.building.condition\",\"classified.energy.heatingType\",\"classified.certificates.primaryEnergyConsumptionLevel\",\"classified.bedroom.count\",\"classified.land.surface\",\"classified.atticExists\",\"classified.basementExists\",\"classified.outdoor.garden.surface\",\"classified.outdoor.terrace.exists\",\"classified.specificities.SME.office.exists\",\"classified.wellnessEquipment.hasSwimmingPool\",\"classified.parking.parkingSpaceCount.indoor\",\"classified.parking.parkingSpaceCount.outdoor\",\"classified.condition.isNewlyBuilt\",\"customer.name\",\"customer.family\"]\n",
    "df=df[keep]\n",
    "for i in keep:\n",
    "    print(\"@@@@\",i)\n",
    "    print(df[i])\n",
    "#print(df.columns)\n",
    "\n",
    "\n"
   ]
  },
  {
   "cell_type": "code",
   "execution_count": 97,
   "metadata": {},
   "outputs": [
    {
     "data": {
      "text/plain": [
       "Index(['classified.type', 'classified.subtype', 'classified.price',\n",
       "       'classified.transactionType', 'classified.zip',\n",
       "       'classified.kitchen.type', 'NOTRclassified.building.constructionYear',\n",
       "       'classified.building.condition', 'NOTRclassified.energy.heatingType',\n",
       "       'NOTRclassified.certificates.primaryEnergyConsumptionLevel',\n",
       "       'classified.bedroom.count', 'classified.land.surface',\n",
       "       'classified.atticExists', 'classified.outdoor.garden.surface',\n",
       "       'classified.outdoor.terrace.exists',\n",
       "       'classified.wellnessEquipment.hasSwimmingPool',\n",
       "       'classified.parking.parkingSpaceCount.indoor'],\n",
       "      dtype='object')"
      ]
     },
     "execution_count": 97,
     "metadata": {},
     "output_type": "execute_result"
    }
   ],
   "source": [
    "df.columns"
   ]
  },
  {
   "cell_type": "code",
   "execution_count": 7,
   "metadata": {},
   "outputs": [
    {
     "name": "stdout",
     "output_type": "stream",
     "text": [
      "<class 'pandas.core.frame.DataFrame'>\n",
      "RangeIndex: 47 entries, 0 to 46\n",
      "Data columns (total 23 columns):\n",
      " #   Column                                                 Non-Null Count  Dtype  \n",
      "---  ------                                                 --------------  -----  \n",
      " 0   classified.type                                        47 non-null     object \n",
      " 1   classified.subtype                                     47 non-null     object \n",
      " 2   classified.price                                       47 non-null     object \n",
      " 3   classified.transactionType                             47 non-null     object \n",
      " 4   classified.zip                                         47 non-null     int64  \n",
      " 5   classified.kitchen.type                                37 non-null     object \n",
      " 6   classified.building.constructionYear                   38 non-null     float64\n",
      " 7   classified.building.condition                          41 non-null     object \n",
      " 8   classified.energy.heatingType                          41 non-null     object \n",
      " 9   classified.certificates.primaryEnergyConsumptionLevel  41 non-null     float64\n",
      " 10  classified.bedroom.count                               43 non-null     float64\n",
      " 11  classified.land.surface                                42 non-null     float64\n",
      " 12  classified.atticExists                                 14 non-null     object \n",
      " 13  classified.basementExists                              23 non-null     object \n",
      " 14  classified.outdoor.garden.surface                      23 non-null     float64\n",
      " 15  classified.outdoor.terrace.exists                      34 non-null     object \n",
      " 16  classified.specificities.SME.office.exists             12 non-null     object \n",
      " 17  classified.wellnessEquipment.hasSwimmingPool           2 non-null      object \n",
      " 18  classified.parking.parkingSpaceCount.indoor            19 non-null     float64\n",
      " 19  classified.parking.parkingSpaceCount.outdoor           16 non-null     float64\n",
      " 20  classified.condition.isNewlyBuilt                      47 non-null     bool   \n",
      " 21  customer.name                                          47 non-null     object \n",
      " 22  customer.family                                        47 non-null     object \n",
      "dtypes: bool(1), float64(7), int64(1), object(14)\n",
      "memory usage: 8.2+ KB\n"
     ]
    }
   ],
   "source": [
    "df.info()"
   ]
  },
  {
   "cell_type": "code",
   "execution_count": 72,
   "metadata": {},
   "outputs": [
    {
     "ename": "AttributeError",
     "evalue": "Can only use .str accessor with string values!",
     "output_type": "error",
     "traceback": [
      "\u001b[1;31m---------------------------------------------------------------------------\u001b[0m",
      "\u001b[1;31mAttributeError\u001b[0m                            Traceback (most recent call last)",
      "\u001b[1;32m~\\AppData\\Local\\Temp/ipykernel_10332/2760039649.py\u001b[0m in \u001b[0;36m<module>\u001b[1;34m\u001b[0m\n\u001b[1;32m----> 1\u001b[1;33m \u001b[0mdf\u001b[0m\u001b[1;33m[\u001b[0m\u001b[0mdf\u001b[0m\u001b[1;33m[\u001b[0m\u001b[1;34m'classified.price'\u001b[0m\u001b[1;33m]\u001b[0m\u001b[1;33m.\u001b[0m\u001b[0mstr\u001b[0m\u001b[1;33m.\u001b[0m\u001b[0mfind\u001b[0m\u001b[1;33m(\u001b[0m\u001b[1;34m'-'\u001b[0m\u001b[1;33m)\u001b[0m \u001b[1;33m==\u001b[0m \u001b[1;33m-\u001b[0m\u001b[1;36m1\u001b[0m\u001b[1;33m]\u001b[0m\u001b[1;33m\u001b[0m\u001b[1;33m\u001b[0m\u001b[0m\n\u001b[0m",
      "\u001b[1;32m~\\anaconda3\\lib\\site-packages\\pandas\\core\\generic.py\u001b[0m in \u001b[0;36m__getattr__\u001b[1;34m(self, name)\u001b[0m\n\u001b[0;32m   5485\u001b[0m         ):\n\u001b[0;32m   5486\u001b[0m             \u001b[1;32mreturn\u001b[0m \u001b[0mself\u001b[0m\u001b[1;33m[\u001b[0m\u001b[0mname\u001b[0m\u001b[1;33m]\u001b[0m\u001b[1;33m\u001b[0m\u001b[1;33m\u001b[0m\u001b[0m\n\u001b[1;32m-> 5487\u001b[1;33m         \u001b[1;32mreturn\u001b[0m \u001b[0mobject\u001b[0m\u001b[1;33m.\u001b[0m\u001b[0m__getattribute__\u001b[0m\u001b[1;33m(\u001b[0m\u001b[0mself\u001b[0m\u001b[1;33m,\u001b[0m \u001b[0mname\u001b[0m\u001b[1;33m)\u001b[0m\u001b[1;33m\u001b[0m\u001b[1;33m\u001b[0m\u001b[0m\n\u001b[0m\u001b[0;32m   5488\u001b[0m \u001b[1;33m\u001b[0m\u001b[0m\n\u001b[0;32m   5489\u001b[0m     \u001b[1;32mdef\u001b[0m \u001b[0m__setattr__\u001b[0m\u001b[1;33m(\u001b[0m\u001b[0mself\u001b[0m\u001b[1;33m,\u001b[0m \u001b[0mname\u001b[0m\u001b[1;33m:\u001b[0m \u001b[0mstr\u001b[0m\u001b[1;33m,\u001b[0m \u001b[0mvalue\u001b[0m\u001b[1;33m)\u001b[0m \u001b[1;33m->\u001b[0m \u001b[1;32mNone\u001b[0m\u001b[1;33m:\u001b[0m\u001b[1;33m\u001b[0m\u001b[1;33m\u001b[0m\u001b[0m\n",
      "\u001b[1;32m~\\anaconda3\\lib\\site-packages\\pandas\\core\\accessor.py\u001b[0m in \u001b[0;36m__get__\u001b[1;34m(self, obj, cls)\u001b[0m\n\u001b[0;32m    179\u001b[0m             \u001b[1;31m# we're accessing the attribute of the class, i.e., Dataset.geo\u001b[0m\u001b[1;33m\u001b[0m\u001b[1;33m\u001b[0m\u001b[0m\n\u001b[0;32m    180\u001b[0m             \u001b[1;32mreturn\u001b[0m \u001b[0mself\u001b[0m\u001b[1;33m.\u001b[0m\u001b[0m_accessor\u001b[0m\u001b[1;33m\u001b[0m\u001b[1;33m\u001b[0m\u001b[0m\n\u001b[1;32m--> 181\u001b[1;33m         \u001b[0maccessor_obj\u001b[0m \u001b[1;33m=\u001b[0m \u001b[0mself\u001b[0m\u001b[1;33m.\u001b[0m\u001b[0m_accessor\u001b[0m\u001b[1;33m(\u001b[0m\u001b[0mobj\u001b[0m\u001b[1;33m)\u001b[0m\u001b[1;33m\u001b[0m\u001b[1;33m\u001b[0m\u001b[0m\n\u001b[0m\u001b[0;32m    182\u001b[0m         \u001b[1;31m# Replace the property with the accessor object. Inspired by:\u001b[0m\u001b[1;33m\u001b[0m\u001b[1;33m\u001b[0m\u001b[0m\n\u001b[0;32m    183\u001b[0m         \u001b[1;31m# https://www.pydanny.com/cached-property.html\u001b[0m\u001b[1;33m\u001b[0m\u001b[1;33m\u001b[0m\u001b[0m\n",
      "\u001b[1;32m~\\anaconda3\\lib\\site-packages\\pandas\\core\\strings\\accessor.py\u001b[0m in \u001b[0;36m__init__\u001b[1;34m(self, data)\u001b[0m\n\u001b[0;32m    166\u001b[0m         \u001b[1;32mfrom\u001b[0m \u001b[0mpandas\u001b[0m\u001b[1;33m.\u001b[0m\u001b[0mcore\u001b[0m\u001b[1;33m.\u001b[0m\u001b[0marrays\u001b[0m\u001b[1;33m.\u001b[0m\u001b[0mstring_\u001b[0m \u001b[1;32mimport\u001b[0m \u001b[0mStringDtype\u001b[0m\u001b[1;33m\u001b[0m\u001b[1;33m\u001b[0m\u001b[0m\n\u001b[0;32m    167\u001b[0m \u001b[1;33m\u001b[0m\u001b[0m\n\u001b[1;32m--> 168\u001b[1;33m         \u001b[0mself\u001b[0m\u001b[1;33m.\u001b[0m\u001b[0m_inferred_dtype\u001b[0m \u001b[1;33m=\u001b[0m \u001b[0mself\u001b[0m\u001b[1;33m.\u001b[0m\u001b[0m_validate\u001b[0m\u001b[1;33m(\u001b[0m\u001b[0mdata\u001b[0m\u001b[1;33m)\u001b[0m\u001b[1;33m\u001b[0m\u001b[1;33m\u001b[0m\u001b[0m\n\u001b[0m\u001b[0;32m    169\u001b[0m         \u001b[0mself\u001b[0m\u001b[1;33m.\u001b[0m\u001b[0m_is_categorical\u001b[0m \u001b[1;33m=\u001b[0m \u001b[0mis_categorical_dtype\u001b[0m\u001b[1;33m(\u001b[0m\u001b[0mdata\u001b[0m\u001b[1;33m.\u001b[0m\u001b[0mdtype\u001b[0m\u001b[1;33m)\u001b[0m\u001b[1;33m\u001b[0m\u001b[1;33m\u001b[0m\u001b[0m\n\u001b[0;32m    170\u001b[0m         \u001b[0mself\u001b[0m\u001b[1;33m.\u001b[0m\u001b[0m_is_string\u001b[0m \u001b[1;33m=\u001b[0m \u001b[0misinstance\u001b[0m\u001b[1;33m(\u001b[0m\u001b[0mdata\u001b[0m\u001b[1;33m.\u001b[0m\u001b[0mdtype\u001b[0m\u001b[1;33m,\u001b[0m \u001b[0mStringDtype\u001b[0m\u001b[1;33m)\u001b[0m\u001b[1;33m\u001b[0m\u001b[1;33m\u001b[0m\u001b[0m\n",
      "\u001b[1;32m~\\anaconda3\\lib\\site-packages\\pandas\\core\\strings\\accessor.py\u001b[0m in \u001b[0;36m_validate\u001b[1;34m(data)\u001b[0m\n\u001b[0;32m    223\u001b[0m \u001b[1;33m\u001b[0m\u001b[0m\n\u001b[0;32m    224\u001b[0m         \u001b[1;32mif\u001b[0m \u001b[0minferred_dtype\u001b[0m \u001b[1;32mnot\u001b[0m \u001b[1;32min\u001b[0m \u001b[0mallowed_types\u001b[0m\u001b[1;33m:\u001b[0m\u001b[1;33m\u001b[0m\u001b[1;33m\u001b[0m\u001b[0m\n\u001b[1;32m--> 225\u001b[1;33m             \u001b[1;32mraise\u001b[0m \u001b[0mAttributeError\u001b[0m\u001b[1;33m(\u001b[0m\u001b[1;34m\"Can only use .str accessor with string values!\"\u001b[0m\u001b[1;33m)\u001b[0m\u001b[1;33m\u001b[0m\u001b[1;33m\u001b[0m\u001b[0m\n\u001b[0m\u001b[0;32m    226\u001b[0m         \u001b[1;32mreturn\u001b[0m \u001b[0minferred_dtype\u001b[0m\u001b[1;33m\u001b[0m\u001b[1;33m\u001b[0m\u001b[0m\n\u001b[0;32m    227\u001b[0m \u001b[1;33m\u001b[0m\u001b[0m\n",
      "\u001b[1;31mAttributeError\u001b[0m: Can only use .str accessor with string values!"
     ]
    }
   ],
   "source": [
    "df[df['classified.price'].str.find('-') == -1]"
   ]
  },
  {
   "cell_type": "code",
   "execution_count": 85,
   "metadata": {},
   "outputs": [
    {
     "name": "stdout",
     "output_type": "stream",
     "text": [
      "   classified.type    classified.subtype  classified.price  \\\n",
      "0            house                 house          349000.0   \n",
      "1            house                 house          650000.0   \n",
      "2            house                 house          225000.0   \n",
      "4            house                 house          750000.0   \n",
      "5            house                 house          316000.0   \n",
      "6            house            town house          550000.0   \n",
      "7            house       apartment block          675000.0   \n",
      "8            house                 house          695000.0   \n",
      "9            house               mansion          285000.0   \n",
      "11           house                 house          315000.0   \n",
      "12           house                 house          495000.0   \n",
      "13           house                 house          199500.0   \n",
      "14           house       apartment block          425000.0   \n",
      "15           house                 house          425000.0   \n",
      "16           house                 house          500000.0   \n",
      "17           house              bungalow          525000.0   \n",
      "18           house       apartment block          825000.0   \n",
      "19           house                 house          179000.0   \n",
      "20           house                 house          245000.0   \n",
      "21           house                 house          265000.0   \n",
      "22           house                 house          269500.0   \n",
      "24           house                 villa         1150000.0   \n",
      "25           house                 house          239000.0   \n",
      "26           house                 villa          239000.0   \n",
      "27           house                 house          262500.0   \n",
      "28           house                 house          350000.0   \n",
      "29           house                 house          945000.0   \n",
      "30           house       apartment block          495000.0   \n",
      "31           house    mixed use building          529000.0   \n",
      "32           house            town house          595000.0   \n",
      "33           house                 villa          335000.0   \n",
      "34           house                 house          325000.0   \n",
      "35       apartment                duplex          299500.0   \n",
      "36           house                 villa          939000.0   \n",
      "37           house                 house          359000.0   \n",
      "38           house       apartment block          975000.0   \n",
      "39           house  exceptional property         1085000.0   \n",
      "40           house                 house          215000.0   \n",
      "42           house                 house          485000.0   \n",
      "43           house                 house          715000.0   \n",
      "44           house                 house          195000.0   \n",
      "45           house                 house          219000.0   \n",
      "46           house                 house          260000.0   \n",
      "\n",
      "   classified.transactionType  classified.zip classified.kitchen.type  \\\n",
      "0                    for sale            6940           semi equipped   \n",
      "1                    for sale            1200               installed   \n",
      "2                    for sale            4000           not installed   \n",
      "4                    for sale            1040               installed   \n",
      "5                    for sale            8700           semi equipped   \n",
      "6                    for sale            1090          hyper equipped   \n",
      "7                    for sale            8000          hyper equipped   \n",
      "8                    for sale            1950          hyper equipped   \n",
      "9                    for sale            9600               installed   \n",
      "11                   for sale            3010           semi equipped   \n",
      "12                   for sale            1020          hyper equipped   \n",
      "13                   for sale            4400           not installed   \n",
      "14                   for sale            1030           not installed   \n",
      "15                   for sale            1030           not installed   \n",
      "16                   for sale            1200           semi equipped   \n",
      "17                   for sale            1970          hyper equipped   \n",
      "18                   for sale            1030           semi equipped   \n",
      "19                   for sale            2870               installed   \n",
      "20                   for sale            5330           semi equipped   \n",
      "21                   for sale            9600               installed   \n",
      "22                   for sale            6800           not installed   \n",
      "24                   for sale            9551          hyper equipped   \n",
      "25                   for sale            7900           semi equipped   \n",
      "26                   for sale            7900           semi equipped   \n",
      "27                   for sale            8790               installed   \n",
      "28                   for sale            1800                     NaN   \n",
      "29                   for sale            1950           semi equipped   \n",
      "30                   for sale            1040                     NaN   \n",
      "31                   for sale            1880               installed   \n",
      "32                   for sale            1180                     NaN   \n",
      "33                   for sale            7011                     NaN   \n",
      "34                   for sale            8580                     NaN   \n",
      "35                   for sale            2200                     NaN   \n",
      "36                   for sale            2630          hyper equipped   \n",
      "37                   for sale            2180          hyper equipped   \n",
      "38                   for sale            1090           not installed   \n",
      "39                   for sale            1390      usa hyper equipped   \n",
      "40                   for sale            9600          hyper equipped   \n",
      "42                   for sale            6700               installed   \n",
      "43                   for sale            1180          hyper equipped   \n",
      "44                   for sale            1325               installed   \n",
      "45                   for sale            9600          hyper equipped   \n",
      "46                   for sale            5004           semi equipped   \n",
      "\n",
      "    classified.building.constructionYear classified.building.condition  \\\n",
      "0                                 1900.0                          good   \n",
      "1                                 1930.0                 to be done up   \n",
      "2                                 1955.0                          good   \n",
      "4                                 1918.0                          good   \n",
      "5                                 1937.0                          good   \n",
      "6                                 1934.0                 to be done up   \n",
      "7                                 2022.0                just renovated   \n",
      "8                                 1990.0                          good   \n",
      "9                                 1945.0                just renovated   \n",
      "11                                1949.0                   to renovate   \n",
      "12                                1935.0                        as new   \n",
      "13                                1957.0                 to be done up   \n",
      "14                                1926.0                 to be done up   \n",
      "15                                1926.0                 to be done up   \n",
      "16                                1956.0                          good   \n",
      "17                                1980.0                        as new   \n",
      "18                                1960.0                          good   \n",
      "19                                1887.0                 to be done up   \n",
      "20                                1975.0                          good   \n",
      "21                                1925.0                just renovated   \n",
      "22                                1975.0                   to renovate   \n",
      "24                                2013.0                        as new   \n",
      "25                                1961.0                 to be done up   \n",
      "26                                1961.0                 to be done up   \n",
      "27                                1963.0                          good   \n",
      "28                                1940.0                          good   \n",
      "29                                1965.0                          good   \n",
      "30                                   NaN                           NaN   \n",
      "31                                1950.0                          good   \n",
      "32                                1955.0                          good   \n",
      "33                                   NaN                        as new   \n",
      "34                                1950.0                          good   \n",
      "35                                   NaN                           NaN   \n",
      "36                                   NaN                        as new   \n",
      "37                                   NaN                        as new   \n",
      "38                                1933.0                   to renovate   \n",
      "39                                2002.0                just renovated   \n",
      "40                                1930.0                          good   \n",
      "42                                1966.0                          good   \n",
      "43                                1950.0                        as new   \n",
      "44                                1948.0                 to be done up   \n",
      "45                                1920.0                          good   \n",
      "46                                1949.0                 to be done up   \n",
      "\n",
      "   classified.energy.heatingType  \\\n",
      "0                        fueloil   \n",
      "1                            gas   \n",
      "2                            gas   \n",
      "4                            gas   \n",
      "5                            gas   \n",
      "6                            gas   \n",
      "7                            gas   \n",
      "8                            gas   \n",
      "9                            gas   \n",
      "11                           gas   \n",
      "12                           gas   \n",
      "13                       fueloil   \n",
      "14                           gas   \n",
      "15                           gas   \n",
      "16                           gas   \n",
      "17                           gas   \n",
      "18                           gas   \n",
      "19                           gas   \n",
      "20                      electric   \n",
      "21                           gas   \n",
      "22                       fueloil   \n",
      "24                           gas   \n",
      "25                       fueloil   \n",
      "26                       fueloil   \n",
      "27                           gas   \n",
      "28                           gas   \n",
      "29                           gas   \n",
      "30                           NaN   \n",
      "31                           gas   \n",
      "32                           gas   \n",
      "33                      electric   \n",
      "34                        pellet   \n",
      "35                           NaN   \n",
      "36                           gas   \n",
      "37                           gas   \n",
      "38                           gas   \n",
      "39                       fueloil   \n",
      "40                           gas   \n",
      "42                       fueloil   \n",
      "43                           gas   \n",
      "44                        pellet   \n",
      "45                           gas   \n",
      "46                       fueloil   \n",
      "\n",
      "    classified.certificates.primaryEnergyConsumptionLevel  ...  \\\n",
      "0                                               315.0      ...   \n",
      "1                                               263.0      ...   \n",
      "2                                               398.0      ...   \n",
      "4                                               206.0      ...   \n",
      "5                                               449.0      ...   \n",
      "6                                               303.0      ...   \n",
      "7                                               138.0      ...   \n",
      "8                                               228.0      ...   \n",
      "9                                               208.0      ...   \n",
      "11                                              800.0      ...   \n",
      "12                                              273.0      ...   \n",
      "13                                              563.0      ...   \n",
      "14                                              450.0      ...   \n",
      "15                                              450.0      ...   \n",
      "16                                              505.0      ...   \n",
      "17                                              296.0      ...   \n",
      "18                                              272.0      ...   \n",
      "19                                              316.0      ...   \n",
      "20                                              531.0      ...   \n",
      "21                                              192.0      ...   \n",
      "22                                              463.0      ...   \n",
      "24                                               93.0      ...   \n",
      "25                                              428.0      ...   \n",
      "26                                              428.0      ...   \n",
      "27                                              428.0      ...   \n",
      "28                                              368.0      ...   \n",
      "29                                              262.0      ...   \n",
      "30                                                NaN      ...   \n",
      "31                                              277.0      ...   \n",
      "32                                              357.0      ...   \n",
      "33                                                NaN      ...   \n",
      "34                                              288.0      ...   \n",
      "35                                                NaN      ...   \n",
      "36                                               76.0      ...   \n",
      "37                                              178.0      ...   \n",
      "38                                              235.0      ...   \n",
      "39                                              254.0      ...   \n",
      "40                                              252.0      ...   \n",
      "42                                              461.0      ...   \n",
      "43                                              232.0      ...   \n",
      "44                                              471.0      ...   \n",
      "45                                              269.0      ...   \n",
      "46                                              631.0      ...   \n",
      "\n",
      "    classified.basementExists  classified.outdoor.garden.surface  \\\n",
      "0                         NaN                              359.0   \n",
      "1                        True                               30.0   \n",
      "2                        True                               84.0   \n",
      "4                        True                               60.0   \n",
      "5                         NaN                                NaN   \n",
      "6                        True                               65.0   \n",
      "7                         NaN                               18.0   \n",
      "8                         NaN                               95.0   \n",
      "9                        True                                NaN   \n",
      "11                       True                                NaN   \n",
      "12                       True                                NaN   \n",
      "13                       True                                NaN   \n",
      "14                       True                                NaN   \n",
      "15                       True                                NaN   \n",
      "16                       True                              190.0   \n",
      "17                        NaN                              700.0   \n",
      "18                        NaN                                NaN   \n",
      "19                        NaN                                NaN   \n",
      "20                        NaN                               12.0   \n",
      "21                        NaN                              450.0   \n",
      "22                       True                              820.0   \n",
      "24                        NaN                              700.0   \n",
      "25                       True                                NaN   \n",
      "26                       True                                NaN   \n",
      "27                        NaN                                NaN   \n",
      "28                        NaN                               80.0   \n",
      "29                       True                              250.0   \n",
      "30                        NaN                                NaN   \n",
      "31                       True                              100.0   \n",
      "32                       True                              125.0   \n",
      "33                        NaN                                NaN   \n",
      "34                       True                                NaN   \n",
      "35                        NaN                                NaN   \n",
      "36                        NaN                                NaN   \n",
      "37                        NaN                               35.0   \n",
      "38                       True                                NaN   \n",
      "39                       True                              615.0   \n",
      "40                        NaN                               80.0   \n",
      "42                       True                              758.0   \n",
      "43                        NaN                                NaN   \n",
      "44                       True                                NaN   \n",
      "45                        NaN                              300.0   \n",
      "46                       True                              350.0   \n",
      "\n",
      "   classified.outdoor.terrace.exists  \\\n",
      "0                               True   \n",
      "1                               True   \n",
      "2                               True   \n",
      "4                               True   \n",
      "5                                NaN   \n",
      "6                               True   \n",
      "7                                NaN   \n",
      "8                               True   \n",
      "9                               True   \n",
      "11                              True   \n",
      "12                              True   \n",
      "13                              True   \n",
      "14                              True   \n",
      "15                              True   \n",
      "16                              True   \n",
      "17                              True   \n",
      "18                               NaN   \n",
      "19                              True   \n",
      "20                              True   \n",
      "21                              True   \n",
      "22                              True   \n",
      "24                              True   \n",
      "25                               NaN   \n",
      "26                               NaN   \n",
      "27                              True   \n",
      "28                              True   \n",
      "29                              True   \n",
      "30                              True   \n",
      "31                              True   \n",
      "32                              True   \n",
      "33                               NaN   \n",
      "34                               NaN   \n",
      "35                              True   \n",
      "36                              True   \n",
      "37                               NaN   \n",
      "38                              True   \n",
      "39                              True   \n",
      "40                              True   \n",
      "42                              True   \n",
      "43                              True   \n",
      "44                               NaN   \n",
      "45                              True   \n",
      "46                              True   \n",
      "\n",
      "   classified.specificities.SME.office.exists  \\\n",
      "0                                         NaN   \n",
      "1                                        True   \n",
      "2                                         NaN   \n",
      "4                                         NaN   \n",
      "5                                         NaN   \n",
      "6                                         NaN   \n",
      "7                                         NaN   \n",
      "8                                         NaN   \n",
      "9                                        True   \n",
      "11                                        NaN   \n",
      "12                                       True   \n",
      "13                                        NaN   \n",
      "14                                       True   \n",
      "15                                       True   \n",
      "16                                        NaN   \n",
      "17                                        NaN   \n",
      "18                                        NaN   \n",
      "19                                        NaN   \n",
      "20                                        NaN   \n",
      "21                                        NaN   \n",
      "22                                        NaN   \n",
      "24                                        NaN   \n",
      "25                                        NaN   \n",
      "26                                        NaN   \n",
      "27                                       True   \n",
      "28                                        NaN   \n",
      "29                                       True   \n",
      "30                                        NaN   \n",
      "31                                        NaN   \n",
      "32                                       True   \n",
      "33                                        NaN   \n",
      "34                                        NaN   \n",
      "35                                        NaN   \n",
      "36                                        NaN   \n",
      "37                                        NaN   \n",
      "38                                        NaN   \n",
      "39                                       True   \n",
      "40                                       True   \n",
      "42                                       True   \n",
      "43                                        NaN   \n",
      "44                                        NaN   \n",
      "45                                        NaN   \n",
      "46                                       True   \n",
      "\n",
      "    classified.wellnessEquipment.hasSwimmingPool  \\\n",
      "0                                            NaN   \n",
      "1                                            NaN   \n",
      "2                                            NaN   \n",
      "4                                            NaN   \n",
      "5                                            NaN   \n",
      "6                                            NaN   \n",
      "7                                            NaN   \n",
      "8                                            NaN   \n",
      "9                                            NaN   \n",
      "11                                           NaN   \n",
      "12                                           NaN   \n",
      "13                                           NaN   \n",
      "14                                           NaN   \n",
      "15                                           NaN   \n",
      "16                                           NaN   \n",
      "17                                           NaN   \n",
      "18                                           NaN   \n",
      "19                                           NaN   \n",
      "20                                           NaN   \n",
      "21                                           NaN   \n",
      "22                                           NaN   \n",
      "24                                          True   \n",
      "25                                           NaN   \n",
      "26                                           NaN   \n",
      "27                                           NaN   \n",
      "28                                           NaN   \n",
      "29                                           NaN   \n",
      "30                                           NaN   \n",
      "31                                           NaN   \n",
      "32                                           NaN   \n",
      "33                                           NaN   \n",
      "34                                           NaN   \n",
      "35                                           NaN   \n",
      "36                                           NaN   \n",
      "37                                           NaN   \n",
      "38                                           NaN   \n",
      "39                                          True   \n",
      "40                                           NaN   \n",
      "42                                           NaN   \n",
      "43                                           NaN   \n",
      "44                                           NaN   \n",
      "45                                           NaN   \n",
      "46                                           NaN   \n",
      "\n",
      "   classified.parking.parkingSpaceCount.indoor  \\\n",
      "0                                          NaN   \n",
      "1                                          1.0   \n",
      "2                                          NaN   \n",
      "4                                          NaN   \n",
      "5                                          1.0   \n",
      "6                                          1.0   \n",
      "7                                          NaN   \n",
      "8                                          1.0   \n",
      "9                                          NaN   \n",
      "11                                         NaN   \n",
      "12                                         NaN   \n",
      "13                                         1.0   \n",
      "14                                         NaN   \n",
      "15                                         NaN   \n",
      "16                                         1.0   \n",
      "17                                         1.0   \n",
      "18                                         NaN   \n",
      "19                                         NaN   \n",
      "20                                         1.0   \n",
      "21                                         NaN   \n",
      "22                                         1.0   \n",
      "24                                         1.0   \n",
      "25                                         1.0   \n",
      "26                                         1.0   \n",
      "27                                         NaN   \n",
      "28                                         NaN   \n",
      "29                                         1.0   \n",
      "30                                         NaN   \n",
      "31                                         1.0   \n",
      "32                                         NaN   \n",
      "33                                         2.0   \n",
      "34                                         NaN   \n",
      "35                                         NaN   \n",
      "36                                         NaN   \n",
      "37                                         NaN   \n",
      "38                                         NaN   \n",
      "39                                         NaN   \n",
      "40                                         NaN   \n",
      "42                                         1.0   \n",
      "43                                         1.0   \n",
      "44                                         NaN   \n",
      "45                                         NaN   \n",
      "46                                         2.0   \n",
      "\n",
      "   classified.parking.parkingSpaceCount.outdoor  \\\n",
      "0                                           NaN   \n",
      "1                                           1.0   \n",
      "2                                           NaN   \n",
      "4                                           NaN   \n",
      "5                                           NaN   \n",
      "6                                           2.0   \n",
      "7                                           NaN   \n",
      "8                                           3.0   \n",
      "9                                           NaN   \n",
      "11                                          NaN   \n",
      "12                                          NaN   \n",
      "13                                          NaN   \n",
      "14                                          NaN   \n",
      "15                                          NaN   \n",
      "16                                          1.0   \n",
      "17                                          2.0   \n",
      "18                                          NaN   \n",
      "19                                          NaN   \n",
      "20                                          3.0   \n",
      "21                                          NaN   \n",
      "22                                          1.0   \n",
      "24                                          6.0   \n",
      "25                                          NaN   \n",
      "26                                          NaN   \n",
      "27                                          NaN   \n",
      "28                                          1.0   \n",
      "29                                          2.0   \n",
      "30                                          NaN   \n",
      "31                                          NaN   \n",
      "32                                          NaN   \n",
      "33                                          2.0   \n",
      "34                                          NaN   \n",
      "35                                          NaN   \n",
      "36                                          NaN   \n",
      "37                                          NaN   \n",
      "38                                          NaN   \n",
      "39                                          5.0   \n",
      "40                                          NaN   \n",
      "42                                          3.0   \n",
      "43                                          1.0   \n",
      "44                                          2.0   \n",
      "45                                          NaN   \n",
      "46                                          2.0   \n",
      "\n",
      "   classified.condition.isNewlyBuilt  \\\n",
      "0                              False   \n",
      "1                              False   \n",
      "2                              False   \n",
      "4                              False   \n",
      "5                              False   \n",
      "6                              False   \n",
      "7                              False   \n",
      "8                              False   \n",
      "9                              False   \n",
      "11                             False   \n",
      "12                             False   \n",
      "13                             False   \n",
      "14                             False   \n",
      "15                             False   \n",
      "16                             False   \n",
      "17                             False   \n",
      "18                             False   \n",
      "19                             False   \n",
      "20                             False   \n",
      "21                             False   \n",
      "22                             False   \n",
      "24                             False   \n",
      "25                             False   \n",
      "26                             False   \n",
      "27                             False   \n",
      "28                             False   \n",
      "29                             False   \n",
      "30                             False   \n",
      "31                             False   \n",
      "32                             False   \n",
      "33                             False   \n",
      "34                             False   \n",
      "35                             False   \n",
      "36                             False   \n",
      "37                             False   \n",
      "38                             False   \n",
      "39                             False   \n",
      "40                             False   \n",
      "42                             False   \n",
      "43                             False   \n",
      "44                             False   \n",
      "45                             False   \n",
      "46                             False   \n",
      "\n",
      "                                        customer.name     customer.family  \n",
      "0                                    we invest marche              agency  \n",
      "1                                       expertissimmo              agency  \n",
      "2                 groupe cadimmo trooz-liège-sprimont              agency  \n",
      "4                           century 21 cinquantenaire              agency  \n",
      "5                                         immo beguin              agency  \n",
      "6                                             nesting              agency  \n",
      "7                               huys noord immobiliën              agency  \n",
      "8                            immoexpat laura iglesias              agency  \n",
      "9                                        dmg vastgoed              agency  \n",
      "11                                 century 21 skyline              agency  \n",
      "12                      abita agence immobilière scrl              agency  \n",
      "13                                     trevi rasquain              agency  \n",
      "14                                      expertissimmo              agency  \n",
      "15                                      expertissimmo              agency  \n",
      "16                                      expertissimmo              agency  \n",
      "17                         century 21 home sweet home              agency  \n",
      "18                                      expertissimmo              agency  \n",
      "19                                         trevi axus              agency  \n",
      "20                                      expertissimmo              agency  \n",
      "21                                       dmg vastgoed              agency  \n",
      "22  honesty libramont - 6 bureaux proches de chez ...              agency  \n",
      "24                                      immo da vinci              agency  \n",
      "25                                        immo beguin              agency  \n",
      "26                                        immo beguin              agency  \n",
      "27                                        immo beguin              agency  \n",
      "28                                           delfimmo              agency  \n",
      "29            bathim &amp; co l’immobilier sur mesure              agency  \n",
      "30                            hamilton real estate sa              agency  \n",
      "31                                      immo rottiers              agency  \n",
      "32                                      era châtelain              agency  \n",
      "33                    maryvonne dumonceau immobilière              agency  \n",
      "34                                          era becue              agency  \n",
      "35                                            immpact  property_developer  \n",
      "36                                         reds group              agency  \n",
      "37                                         reds group              agency  \n",
      "38                                        gestea sprl  real_estate_agency  \n",
      "39                          l&#039;immobilère du golf              agency  \n",
      "40                                       dmg vastgoed              agency  \n",
      "42                           we invest sud-luxembourg              agency  \n",
      "43                                       orientations              agency  \n",
      "44                                 gilmont immobilier              agency  \n",
      "45                                       dmg vastgoed              agency  \n",
      "46                             trust real estate sprl              agency  \n",
      "\n",
      "[43 rows x 23 columns]\n"
     ]
    }
   ],
   "source": [
    "\n",
    "import pandas as pd\n",
    "inputfile = \"../data/data_homes.csv\"\n",
    "df=pd.read_csv(inputfile)\n",
    "\n",
    "\n",
    "# Cleaning steps\n",
    "# remove unnecessary columns\n",
    "keep= [\"classified.type\",\"classified.subtype\",\"classified.price\",\"classified.transactionType\",\"classified.zip\",\"classified.kitchen.type\",\"classified.building.constructionYear\",\"classified.building.condition\",\"classified.energy.heatingType\",\"classified.certificates.primaryEnergyConsumptionLevel\",\"classified.bedroom.count\",\"classified.land.surface\",\"classified.atticExists\",\"classified.basementExists\",\"classified.outdoor.garden.surface\",\"classified.outdoor.terrace.exists\",\"classified.specificities.SME.office.exists\",\"classified.wellnessEquipment.hasSwimmingPool\",\"classified.parking.parkingSpaceCount.indoor\",\"classified.parking.parkingSpaceCount.outdoor\",\"classified.condition.isNewlyBuilt\",\"customer.name\",\"customer.family\"]\n",
    "df=df[keep]\n",
    "\n",
    "\n",
    "# \n",
    "# drop \"fromprice - toprice\"\n",
    "df=df[df['classified.price'].str.find('-') == -1]\n",
    "\n",
    "#just to be sure\n",
    "\n",
    "df['classified.price'] = df['classified.price'].astype(float)\n",
    "\n",
    "\n",
    "# reformat categorical features\n",
    " \n",
    "#\n",
    "# Save cleaned data for model\n",
    "df.to_csv(\"../data/data_homes_cleaned.csv\")    "
   ]
  },
  {
   "cell_type": "code",
   "execution_count": 70,
   "metadata": {},
   "outputs": [
    {
     "data": {
      "text/html": [
       "<div>\n",
       "<style scoped>\n",
       "    .dataframe tbody tr th:only-of-type {\n",
       "        vertical-align: middle;\n",
       "    }\n",
       "\n",
       "    .dataframe tbody tr th {\n",
       "        vertical-align: top;\n",
       "    }\n",
       "\n",
       "    .dataframe thead th {\n",
       "        text-align: right;\n",
       "    }\n",
       "</style>\n",
       "<table border=\"1\" class=\"dataframe\">\n",
       "  <thead>\n",
       "    <tr style=\"text-align: right;\">\n",
       "      <th></th>\n",
       "      <th>classified.type</th>\n",
       "      <th>classified.subtype</th>\n",
       "      <th>classified.price</th>\n",
       "      <th>classified.transactionType</th>\n",
       "      <th>classified.zip</th>\n",
       "      <th>classified.kitchen.type</th>\n",
       "      <th>classified.building.constructionYear</th>\n",
       "      <th>classified.building.condition</th>\n",
       "      <th>classified.energy.heatingType</th>\n",
       "      <th>classified.certificates.primaryEnergyConsumptionLevel</th>\n",
       "      <th>...</th>\n",
       "      <th>classified.basementExists</th>\n",
       "      <th>classified.outdoor.garden.surface</th>\n",
       "      <th>classified.outdoor.terrace.exists</th>\n",
       "      <th>classified.specificities.SME.office.exists</th>\n",
       "      <th>classified.wellnessEquipment.hasSwimmingPool</th>\n",
       "      <th>classified.parking.parkingSpaceCount.indoor</th>\n",
       "      <th>classified.parking.parkingSpaceCount.outdoor</th>\n",
       "      <th>classified.condition.isNewlyBuilt</th>\n",
       "      <th>customer.name</th>\n",
       "      <th>customer.family</th>\n",
       "    </tr>\n",
       "  </thead>\n",
       "  <tbody>\n",
       "  </tbody>\n",
       "</table>\n",
       "<p>0 rows × 23 columns</p>\n",
       "</div>"
      ],
      "text/plain": [
       "Empty DataFrame\n",
       "Columns: [classified.type, classified.subtype, classified.price, classified.transactionType, classified.zip, classified.kitchen.type, classified.building.constructionYear, classified.building.condition, classified.energy.heatingType, classified.certificates.primaryEnergyConsumptionLevel, classified.bedroom.count, classified.land.surface, classified.atticExists, classified.basementExists, classified.outdoor.garden.surface, classified.outdoor.terrace.exists, classified.specificities.SME.office.exists, classified.wellnessEquipment.hasSwimmingPool, classified.parking.parkingSpaceCount.indoor, classified.parking.parkingSpaceCount.outdoor, classified.condition.isNewlyBuilt, customer.name, customer.family]\n",
       "Index: []\n",
       "\n",
       "[0 rows x 23 columns]"
      ]
     },
     "execution_count": 70,
     "metadata": {},
     "output_type": "execute_result"
    }
   ],
   "source": [
    "df"
   ]
  },
  {
   "cell_type": "code",
   "execution_count": 43,
   "metadata": {},
   "outputs": [
    {
     "ename": "ValueError",
     "evalue": "could not convert string to float: '365000 - 371000'",
     "output_type": "error",
     "traceback": [
      "\u001b[1;31m---------------------------------------------------------------------------\u001b[0m",
      "\u001b[1;31mValueError\u001b[0m                                Traceback (most recent call last)",
      "\u001b[1;32m~\\AppData\\Local\\Temp/ipykernel_10332/2082689359.py\u001b[0m in \u001b[0;36m<module>\u001b[1;34m\u001b[0m\n\u001b[0;32m     34\u001b[0m \u001b[1;31m#X_train=X_train.reshape(-1, 1)\u001b[0m\u001b[1;33m\u001b[0m\u001b[1;33m\u001b[0m\u001b[0m\n\u001b[0;32m     35\u001b[0m \u001b[1;31m#y_train=y_train.reshape(-1, 1)\u001b[0m\u001b[1;33m\u001b[0m\u001b[1;33m\u001b[0m\u001b[0m\n\u001b[1;32m---> 36\u001b[1;33m \u001b[0mregressor\u001b[0m\u001b[1;33m=\u001b[0m\u001b[0mLinearRegression\u001b[0m\u001b[1;33m(\u001b[0m\u001b[1;33m)\u001b[0m\u001b[1;33m.\u001b[0m\u001b[0mfit\u001b[0m\u001b[1;33m(\u001b[0m\u001b[0mX_train\u001b[0m\u001b[1;33m,\u001b[0m\u001b[0my_train\u001b[0m\u001b[1;33m)\u001b[0m\u001b[1;33m\u001b[0m\u001b[1;33m\u001b[0m\u001b[0m\n\u001b[0m",
      "\u001b[1;32m~\\anaconda3\\lib\\site-packages\\sklearn\\linear_model\\_base.py\u001b[0m in \u001b[0;36mfit\u001b[1;34m(self, X, y, sample_weight)\u001b[0m\n\u001b[0;32m    516\u001b[0m         \u001b[0maccept_sparse\u001b[0m \u001b[1;33m=\u001b[0m \u001b[1;32mFalse\u001b[0m \u001b[1;32mif\u001b[0m \u001b[0mself\u001b[0m\u001b[1;33m.\u001b[0m\u001b[0mpositive\u001b[0m \u001b[1;32melse\u001b[0m \u001b[1;33m[\u001b[0m\u001b[1;34m'csr'\u001b[0m\u001b[1;33m,\u001b[0m \u001b[1;34m'csc'\u001b[0m\u001b[1;33m,\u001b[0m \u001b[1;34m'coo'\u001b[0m\u001b[1;33m]\u001b[0m\u001b[1;33m\u001b[0m\u001b[1;33m\u001b[0m\u001b[0m\n\u001b[0;32m    517\u001b[0m \u001b[1;33m\u001b[0m\u001b[0m\n\u001b[1;32m--> 518\u001b[1;33m         X, y = self._validate_data(X, y, accept_sparse=accept_sparse,\n\u001b[0m\u001b[0;32m    519\u001b[0m                                    y_numeric=True, multi_output=True)\n\u001b[0;32m    520\u001b[0m \u001b[1;33m\u001b[0m\u001b[0m\n",
      "\u001b[1;32m~\\anaconda3\\lib\\site-packages\\sklearn\\base.py\u001b[0m in \u001b[0;36m_validate_data\u001b[1;34m(self, X, y, reset, validate_separately, **check_params)\u001b[0m\n\u001b[0;32m    431\u001b[0m                 \u001b[0my\u001b[0m \u001b[1;33m=\u001b[0m \u001b[0mcheck_array\u001b[0m\u001b[1;33m(\u001b[0m\u001b[0my\u001b[0m\u001b[1;33m,\u001b[0m \u001b[1;33m**\u001b[0m\u001b[0mcheck_y_params\u001b[0m\u001b[1;33m)\u001b[0m\u001b[1;33m\u001b[0m\u001b[1;33m\u001b[0m\u001b[0m\n\u001b[0;32m    432\u001b[0m             \u001b[1;32melse\u001b[0m\u001b[1;33m:\u001b[0m\u001b[1;33m\u001b[0m\u001b[1;33m\u001b[0m\u001b[0m\n\u001b[1;32m--> 433\u001b[1;33m                 \u001b[0mX\u001b[0m\u001b[1;33m,\u001b[0m \u001b[0my\u001b[0m \u001b[1;33m=\u001b[0m \u001b[0mcheck_X_y\u001b[0m\u001b[1;33m(\u001b[0m\u001b[0mX\u001b[0m\u001b[1;33m,\u001b[0m \u001b[0my\u001b[0m\u001b[1;33m,\u001b[0m \u001b[1;33m**\u001b[0m\u001b[0mcheck_params\u001b[0m\u001b[1;33m)\u001b[0m\u001b[1;33m\u001b[0m\u001b[1;33m\u001b[0m\u001b[0m\n\u001b[0m\u001b[0;32m    434\u001b[0m             \u001b[0mout\u001b[0m \u001b[1;33m=\u001b[0m \u001b[0mX\u001b[0m\u001b[1;33m,\u001b[0m \u001b[0my\u001b[0m\u001b[1;33m\u001b[0m\u001b[1;33m\u001b[0m\u001b[0m\n\u001b[0;32m    435\u001b[0m \u001b[1;33m\u001b[0m\u001b[0m\n",
      "\u001b[1;32m~\\anaconda3\\lib\\site-packages\\sklearn\\utils\\validation.py\u001b[0m in \u001b[0;36minner_f\u001b[1;34m(*args, **kwargs)\u001b[0m\n\u001b[0;32m     61\u001b[0m             \u001b[0mextra_args\u001b[0m \u001b[1;33m=\u001b[0m \u001b[0mlen\u001b[0m\u001b[1;33m(\u001b[0m\u001b[0margs\u001b[0m\u001b[1;33m)\u001b[0m \u001b[1;33m-\u001b[0m \u001b[0mlen\u001b[0m\u001b[1;33m(\u001b[0m\u001b[0mall_args\u001b[0m\u001b[1;33m)\u001b[0m\u001b[1;33m\u001b[0m\u001b[1;33m\u001b[0m\u001b[0m\n\u001b[0;32m     62\u001b[0m             \u001b[1;32mif\u001b[0m \u001b[0mextra_args\u001b[0m \u001b[1;33m<=\u001b[0m \u001b[1;36m0\u001b[0m\u001b[1;33m:\u001b[0m\u001b[1;33m\u001b[0m\u001b[1;33m\u001b[0m\u001b[0m\n\u001b[1;32m---> 63\u001b[1;33m                 \u001b[1;32mreturn\u001b[0m \u001b[0mf\u001b[0m\u001b[1;33m(\u001b[0m\u001b[1;33m*\u001b[0m\u001b[0margs\u001b[0m\u001b[1;33m,\u001b[0m \u001b[1;33m**\u001b[0m\u001b[0mkwargs\u001b[0m\u001b[1;33m)\u001b[0m\u001b[1;33m\u001b[0m\u001b[1;33m\u001b[0m\u001b[0m\n\u001b[0m\u001b[0;32m     64\u001b[0m \u001b[1;33m\u001b[0m\u001b[0m\n\u001b[0;32m     65\u001b[0m             \u001b[1;31m# extra_args > 0\u001b[0m\u001b[1;33m\u001b[0m\u001b[1;33m\u001b[0m\u001b[0m\n",
      "\u001b[1;32m~\\anaconda3\\lib\\site-packages\\sklearn\\utils\\validation.py\u001b[0m in \u001b[0;36mcheck_X_y\u001b[1;34m(X, y, accept_sparse, accept_large_sparse, dtype, order, copy, force_all_finite, ensure_2d, allow_nd, multi_output, ensure_min_samples, ensure_min_features, y_numeric, estimator)\u001b[0m\n\u001b[0;32m    869\u001b[0m         \u001b[1;32mraise\u001b[0m \u001b[0mValueError\u001b[0m\u001b[1;33m(\u001b[0m\u001b[1;34m\"y cannot be None\"\u001b[0m\u001b[1;33m)\u001b[0m\u001b[1;33m\u001b[0m\u001b[1;33m\u001b[0m\u001b[0m\n\u001b[0;32m    870\u001b[0m \u001b[1;33m\u001b[0m\u001b[0m\n\u001b[1;32m--> 871\u001b[1;33m     X = check_array(X, accept_sparse=accept_sparse,\n\u001b[0m\u001b[0;32m    872\u001b[0m                     \u001b[0maccept_large_sparse\u001b[0m\u001b[1;33m=\u001b[0m\u001b[0maccept_large_sparse\u001b[0m\u001b[1;33m,\u001b[0m\u001b[1;33m\u001b[0m\u001b[1;33m\u001b[0m\u001b[0m\n\u001b[0;32m    873\u001b[0m                     \u001b[0mdtype\u001b[0m\u001b[1;33m=\u001b[0m\u001b[0mdtype\u001b[0m\u001b[1;33m,\u001b[0m \u001b[0morder\u001b[0m\u001b[1;33m=\u001b[0m\u001b[0morder\u001b[0m\u001b[1;33m,\u001b[0m \u001b[0mcopy\u001b[0m\u001b[1;33m=\u001b[0m\u001b[0mcopy\u001b[0m\u001b[1;33m,\u001b[0m\u001b[1;33m\u001b[0m\u001b[1;33m\u001b[0m\u001b[0m\n",
      "\u001b[1;32m~\\anaconda3\\lib\\site-packages\\sklearn\\utils\\validation.py\u001b[0m in \u001b[0;36minner_f\u001b[1;34m(*args, **kwargs)\u001b[0m\n\u001b[0;32m     61\u001b[0m             \u001b[0mextra_args\u001b[0m \u001b[1;33m=\u001b[0m \u001b[0mlen\u001b[0m\u001b[1;33m(\u001b[0m\u001b[0margs\u001b[0m\u001b[1;33m)\u001b[0m \u001b[1;33m-\u001b[0m \u001b[0mlen\u001b[0m\u001b[1;33m(\u001b[0m\u001b[0mall_args\u001b[0m\u001b[1;33m)\u001b[0m\u001b[1;33m\u001b[0m\u001b[1;33m\u001b[0m\u001b[0m\n\u001b[0;32m     62\u001b[0m             \u001b[1;32mif\u001b[0m \u001b[0mextra_args\u001b[0m \u001b[1;33m<=\u001b[0m \u001b[1;36m0\u001b[0m\u001b[1;33m:\u001b[0m\u001b[1;33m\u001b[0m\u001b[1;33m\u001b[0m\u001b[0m\n\u001b[1;32m---> 63\u001b[1;33m                 \u001b[1;32mreturn\u001b[0m \u001b[0mf\u001b[0m\u001b[1;33m(\u001b[0m\u001b[1;33m*\u001b[0m\u001b[0margs\u001b[0m\u001b[1;33m,\u001b[0m \u001b[1;33m**\u001b[0m\u001b[0mkwargs\u001b[0m\u001b[1;33m)\u001b[0m\u001b[1;33m\u001b[0m\u001b[1;33m\u001b[0m\u001b[0m\n\u001b[0m\u001b[0;32m     64\u001b[0m \u001b[1;33m\u001b[0m\u001b[0m\n\u001b[0;32m     65\u001b[0m             \u001b[1;31m# extra_args > 0\u001b[0m\u001b[1;33m\u001b[0m\u001b[1;33m\u001b[0m\u001b[0m\n",
      "\u001b[1;32m~\\anaconda3\\lib\\site-packages\\sklearn\\utils\\validation.py\u001b[0m in \u001b[0;36mcheck_array\u001b[1;34m(array, accept_sparse, accept_large_sparse, dtype, order, copy, force_all_finite, ensure_2d, allow_nd, ensure_min_samples, ensure_min_features, estimator)\u001b[0m\n\u001b[0;32m    671\u001b[0m                     \u001b[0marray\u001b[0m \u001b[1;33m=\u001b[0m \u001b[0marray\u001b[0m\u001b[1;33m.\u001b[0m\u001b[0mastype\u001b[0m\u001b[1;33m(\u001b[0m\u001b[0mdtype\u001b[0m\u001b[1;33m,\u001b[0m \u001b[0mcasting\u001b[0m\u001b[1;33m=\u001b[0m\u001b[1;34m\"unsafe\"\u001b[0m\u001b[1;33m,\u001b[0m \u001b[0mcopy\u001b[0m\u001b[1;33m=\u001b[0m\u001b[1;32mFalse\u001b[0m\u001b[1;33m)\u001b[0m\u001b[1;33m\u001b[0m\u001b[1;33m\u001b[0m\u001b[0m\n\u001b[0;32m    672\u001b[0m                 \u001b[1;32melse\u001b[0m\u001b[1;33m:\u001b[0m\u001b[1;33m\u001b[0m\u001b[1;33m\u001b[0m\u001b[0m\n\u001b[1;32m--> 673\u001b[1;33m                     \u001b[0marray\u001b[0m \u001b[1;33m=\u001b[0m \u001b[0mnp\u001b[0m\u001b[1;33m.\u001b[0m\u001b[0masarray\u001b[0m\u001b[1;33m(\u001b[0m\u001b[0marray\u001b[0m\u001b[1;33m,\u001b[0m \u001b[0morder\u001b[0m\u001b[1;33m=\u001b[0m\u001b[0morder\u001b[0m\u001b[1;33m,\u001b[0m \u001b[0mdtype\u001b[0m\u001b[1;33m=\u001b[0m\u001b[0mdtype\u001b[0m\u001b[1;33m)\u001b[0m\u001b[1;33m\u001b[0m\u001b[1;33m\u001b[0m\u001b[0m\n\u001b[0m\u001b[0;32m    674\u001b[0m             \u001b[1;32mexcept\u001b[0m \u001b[0mComplexWarning\u001b[0m \u001b[1;32mas\u001b[0m \u001b[0mcomplex_warning\u001b[0m\u001b[1;33m:\u001b[0m\u001b[1;33m\u001b[0m\u001b[1;33m\u001b[0m\u001b[0m\n\u001b[0;32m    675\u001b[0m                 raise ValueError(\"Complex data not supported\\n\"\n",
      "\u001b[1;32m~\\anaconda3\\lib\\site-packages\\numpy\\core\\_asarray.py\u001b[0m in \u001b[0;36masarray\u001b[1;34m(a, dtype, order, like)\u001b[0m\n\u001b[0;32m    100\u001b[0m         \u001b[1;32mreturn\u001b[0m \u001b[0m_asarray_with_like\u001b[0m\u001b[1;33m(\u001b[0m\u001b[0ma\u001b[0m\u001b[1;33m,\u001b[0m \u001b[0mdtype\u001b[0m\u001b[1;33m=\u001b[0m\u001b[0mdtype\u001b[0m\u001b[1;33m,\u001b[0m \u001b[0morder\u001b[0m\u001b[1;33m=\u001b[0m\u001b[0morder\u001b[0m\u001b[1;33m,\u001b[0m \u001b[0mlike\u001b[0m\u001b[1;33m=\u001b[0m\u001b[0mlike\u001b[0m\u001b[1;33m)\u001b[0m\u001b[1;33m\u001b[0m\u001b[1;33m\u001b[0m\u001b[0m\n\u001b[0;32m    101\u001b[0m \u001b[1;33m\u001b[0m\u001b[0m\n\u001b[1;32m--> 102\u001b[1;33m     \u001b[1;32mreturn\u001b[0m \u001b[0marray\u001b[0m\u001b[1;33m(\u001b[0m\u001b[0ma\u001b[0m\u001b[1;33m,\u001b[0m \u001b[0mdtype\u001b[0m\u001b[1;33m,\u001b[0m \u001b[0mcopy\u001b[0m\u001b[1;33m=\u001b[0m\u001b[1;32mFalse\u001b[0m\u001b[1;33m,\u001b[0m \u001b[0morder\u001b[0m\u001b[1;33m=\u001b[0m\u001b[0morder\u001b[0m\u001b[1;33m)\u001b[0m\u001b[1;33m\u001b[0m\u001b[1;33m\u001b[0m\u001b[0m\n\u001b[0m\u001b[0;32m    103\u001b[0m \u001b[1;33m\u001b[0m\u001b[0m\n\u001b[0;32m    104\u001b[0m \u001b[1;33m\u001b[0m\u001b[0m\n",
      "\u001b[1;32m~\\anaconda3\\lib\\site-packages\\pandas\\core\\generic.py\u001b[0m in \u001b[0;36m__array__\u001b[1;34m(self, dtype)\u001b[0m\n\u001b[0;32m   1991\u001b[0m \u001b[1;33m\u001b[0m\u001b[0m\n\u001b[0;32m   1992\u001b[0m     \u001b[1;32mdef\u001b[0m \u001b[0m__array__\u001b[0m\u001b[1;33m(\u001b[0m\u001b[0mself\u001b[0m\u001b[1;33m,\u001b[0m \u001b[0mdtype\u001b[0m\u001b[1;33m:\u001b[0m \u001b[0mNpDtype\u001b[0m \u001b[1;33m|\u001b[0m \u001b[1;32mNone\u001b[0m \u001b[1;33m=\u001b[0m \u001b[1;32mNone\u001b[0m\u001b[1;33m)\u001b[0m \u001b[1;33m->\u001b[0m \u001b[0mnp\u001b[0m\u001b[1;33m.\u001b[0m\u001b[0mndarray\u001b[0m\u001b[1;33m:\u001b[0m\u001b[1;33m\u001b[0m\u001b[1;33m\u001b[0m\u001b[0m\n\u001b[1;32m-> 1993\u001b[1;33m         \u001b[1;32mreturn\u001b[0m \u001b[0mnp\u001b[0m\u001b[1;33m.\u001b[0m\u001b[0masarray\u001b[0m\u001b[1;33m(\u001b[0m\u001b[0mself\u001b[0m\u001b[1;33m.\u001b[0m\u001b[0m_values\u001b[0m\u001b[1;33m,\u001b[0m \u001b[0mdtype\u001b[0m\u001b[1;33m=\u001b[0m\u001b[0mdtype\u001b[0m\u001b[1;33m)\u001b[0m\u001b[1;33m\u001b[0m\u001b[1;33m\u001b[0m\u001b[0m\n\u001b[0m\u001b[0;32m   1994\u001b[0m \u001b[1;33m\u001b[0m\u001b[0m\n\u001b[0;32m   1995\u001b[0m     def __array_wrap__(\n",
      "\u001b[1;32m~\\anaconda3\\lib\\site-packages\\numpy\\core\\_asarray.py\u001b[0m in \u001b[0;36masarray\u001b[1;34m(a, dtype, order, like)\u001b[0m\n\u001b[0;32m    100\u001b[0m         \u001b[1;32mreturn\u001b[0m \u001b[0m_asarray_with_like\u001b[0m\u001b[1;33m(\u001b[0m\u001b[0ma\u001b[0m\u001b[1;33m,\u001b[0m \u001b[0mdtype\u001b[0m\u001b[1;33m=\u001b[0m\u001b[0mdtype\u001b[0m\u001b[1;33m,\u001b[0m \u001b[0morder\u001b[0m\u001b[1;33m=\u001b[0m\u001b[0morder\u001b[0m\u001b[1;33m,\u001b[0m \u001b[0mlike\u001b[0m\u001b[1;33m=\u001b[0m\u001b[0mlike\u001b[0m\u001b[1;33m)\u001b[0m\u001b[1;33m\u001b[0m\u001b[1;33m\u001b[0m\u001b[0m\n\u001b[0;32m    101\u001b[0m \u001b[1;33m\u001b[0m\u001b[0m\n\u001b[1;32m--> 102\u001b[1;33m     \u001b[1;32mreturn\u001b[0m \u001b[0marray\u001b[0m\u001b[1;33m(\u001b[0m\u001b[0ma\u001b[0m\u001b[1;33m,\u001b[0m \u001b[0mdtype\u001b[0m\u001b[1;33m,\u001b[0m \u001b[0mcopy\u001b[0m\u001b[1;33m=\u001b[0m\u001b[1;32mFalse\u001b[0m\u001b[1;33m,\u001b[0m \u001b[0morder\u001b[0m\u001b[1;33m=\u001b[0m\u001b[0morder\u001b[0m\u001b[1;33m)\u001b[0m\u001b[1;33m\u001b[0m\u001b[1;33m\u001b[0m\u001b[0m\n\u001b[0m\u001b[0;32m    103\u001b[0m \u001b[1;33m\u001b[0m\u001b[0m\n\u001b[0;32m    104\u001b[0m \u001b[1;33m\u001b[0m\u001b[0m\n",
      "\u001b[1;31mValueError\u001b[0m: could not convert string to float: '365000 - 371000'"
     ]
    }
   ],
   "source": [
    "import matplotlib.pyplot as plt\n",
    "import numpy as np\n",
    "import pandas as pd\n",
    "\n",
    "# read data\n",
    "#\n",
    "df = pd.read_csv(\"../data/data_homes_cleaned.csv\")\n",
    "df=df[['classified.zip','classified.price','classified.building.constructionYear']]\n",
    "\n",
    "\n",
    "# prepare\n",
    "# clean\n",
    "\n",
    "print(df.info())\n",
    "for i,j in enumerate(df['classified.price']):\n",
    "    print(i,j)\n",
    "    try:\n",
    "        d=float(j)\n",
    "    except:\n",
    "        print(\"@@@@@\")\n",
    "        df=df.drop([i])\n",
    "\n",
    "# drop \"fromprice - toprice\"\n",
    "df[df['classified.price'].str.find('-') != -1].drop()\n",
    "df=df.dropna()\n",
    "\n",
    "print(df.info()) \n",
    "#\n",
    "X=df[['classified.price','classified.building.constructionYear']]\n",
    "y=df['classified.zip']\n",
    "\n",
    "'''\n",
    "# How to use `sklearn` now with multiple features ? Well, it's simple, you don't change anything. `sklearn` takes care of everything for you.\n",
    "\n",
    "1. Import `LinearRegression` from `sklearn`\n",
    "2. Create a `regressor` variable and instantiate your `LinearRegression` class.\n",
    "3. Train your model with `X_train` and `y_train`.\n",
    "4. Display the score of your model with `X_train` and `y_train`.\n",
    "5. Use the predict method of your model on your test dataset (`X_test`).\n",
    "6. Display the score of your model with `X_test` and `y_test`.\n",
    "'''\n",
    "\n",
    "from sklearn.model_selection import train_test_split\n",
    "X_train, X_test, y_train, y_test = train_test_split(X,y, random_state=33, test_size=0.2)\n",
    "\n",
    "from sklearn.linear_model import LinearRegression\n",
    "#X_train=X_train.reshape(-1, 1)\n",
    "#y_train=y_train.reshape(-1, 1)\n",
    "regressor=LinearRegression().fit(X_train,y_train)"
   ]
  },
  {
   "cell_type": "markdown",
   "metadata": {},
   "source": [
    "As you can see we now have 100 rows, 2 features and 1 target."
   ]
  },
  {
   "cell_type": "markdown",
   "metadata": {},
   "source": [
    "**Exercise :** Create the `X` and `y` variables and define which column will be the target and which column will be the feature. \n",
    "They must be of type `numpy.ndarray`. Our variable `X` has two dimensions this time."
   ]
  },
  {
   "cell_type": "code",
   "execution_count": 4,
   "metadata": {},
   "outputs": [],
   "source": [
    "import numpy as np\n",
    "\n",
    "X=df[['x_1','x_2']]\n",
    "#X\n",
    "y=df[['y']]\n",
    "#y\n",
    "\n",
    "X=np.array(X)\n",
    "y=np.array(y)\n",
    "\n"
   ]
  },
  {
   "cell_type": "markdown",
   "metadata": {},
   "source": [
    "### Relationship between variables"
   ]
  },
  {
   "cell_type": "markdown",
   "metadata": {},
   "source": [
    "To represent a dataset that has two features, we can use 3D visualization."
   ]
  },
  {
   "cell_type": "markdown",
   "metadata": {},
   "source": [
    "**Exercise :** Use a 3D matplotlib (or other) graph to view the dataset. "
   ]
  },
  {
   "cell_type": "code",
   "execution_count": 5,
   "metadata": {},
   "outputs": [
    {
     "data": {
      "text/plain": [
       "array([ 1.05445173, -0.36274117, -0.85409574,  1.3263859 , -0.4615846 ,\n",
       "        1.94362119, -1.60205766, -0.40178094, -0.97727788,  0.37816252,\n",
       "       -0.30230275, -0.74745481, -0.18718385,  0.31872765, -1.53624369,\n",
       "        0.40015721, -0.82643854, -0.74216502,  0.70657317,  0.90082649,\n",
       "       -0.57884966, -0.20829876,  0.68159452,  0.8024564 ,  0.77749036,\n",
       "       -1.5447711 ,  0.96939671,  0.67643329,  1.78587049,  1.5430146 ,\n",
       "        0.05616534, -0.21274028, -0.35955316, -1.23482582,  0.15634897,\n",
       "        0.4105985 , -0.15501009,  1.20237985,  0.40198936, -1.07993151,\n",
       "        0.92220667, -0.68954978, -0.17154633,  0.08755124,  1.89588918,\n",
       "       -0.66347829,  1.84926373,  0.33367433, -1.37495129,  1.46935877,\n",
       "        0.01747916, -1.18063218,  0.26705087,  1.11701629,  1.45427351,\n",
       "        2.2408932 , -0.14963454,  0.90604466, -1.1680935 , -0.65102559,\n",
       "       -1.98079647, -0.4380743 ,  0.84436298,  1.22244507,  0.63503144,\n",
       "        0.3869025 , -0.20515826,  0.12898291,  1.33652795,  1.9507754 ,\n",
       "        1.48051479,  0.31694261, -2.22340315,  1.71334272,  0.3024719 ,\n",
       "        0.12167502, -1.42001794,  0.4393917 , -0.17992484, -0.68481009,\n",
       "       -1.09940079, -0.15135721, -0.43782004,  0.0519454 , -1.09306151,\n",
       "        0.40746184,  0.53924919,  1.91006495,  0.42833187,  0.6536186 ,\n",
       "        0.94447949,  0.03183056,  1.92953205, -1.45436567,  0.46278226,\n",
       "        0.82350415,  0.97663904, -1.34775906,  0.05216508, -1.7262826 ])"
      ]
     },
     "execution_count": 5,
     "metadata": {},
     "output_type": "execute_result"
    }
   ],
   "source": [
    "X[:,0]"
   ]
  },
  {
   "cell_type": "code",
   "execution_count": 6,
   "metadata": {},
   "outputs": [
    {
     "data": {
      "image/png": "[encoded data removed]",
      "text/plain": [
       "<Figure size 432x288 with 1 Axes>"
      ]
     },
     "metadata": {
      "needs_background": "light"
     },
     "output_type": "display_data"
    }
   ],
   "source": [
    "import matplotlib.pyplot as plt\n",
    "\n",
    "\n",
    "j=180\n",
    "k=180\n",
    "\n",
    "fig = plt.figure()\n",
    "ax = fig.add_subplot(projection='3d')\n",
    "ax.scatter(X[:,0], X[:,1], y)\n",
    "ax.set_xlabel('X Label')\n",
    "ax.set_ylabel('Y Label')\n",
    "ax.set_zlabel('Z Label')\n",
    "\n",
    "ax.view_init(j,k)\n",
    "    \n",
    "\n",
    "    "
   ]
  },
  {
   "cell_type": "markdown",
   "metadata": {},
   "source": [
    "If you change the camera angle, you should come across something that looks like this: \n",
    "<img src=\"./assets/3dplot.png\" />"
   ]
  },
  {
   "cell_type": "markdown",
   "metadata": {},
   "source": [
    "This appears to be a positive linear correlation. What do you say?  \n",
    "\n",
    "\n",
    "If our dataset has more than two dimensions, then we won't be able to display it in 3D. Unfortunately for us, the human being can only perceive 3 dimensions. In this case, we will have no other choice than to display one scatter plot per variable.\n",
    "\n",
    "And it is there that we realize that the linear regression may be very simple, as soon as we go beyond 3 dimensions, the human being will hardly be able to visualize all the data while the machines are doing very well.\n",
    "\n",
    "**Exercise :** Create a scatter plot for each variable with respect to the target. You may use  `plt.tight_layout()` after plotting if the graph is too cramped."
   ]
  },
  {
   "cell_type": "code",
   "execution_count": 7,
   "metadata": {},
   "outputs": [
    {
     "data": {
      "text/plain": [
       "Text(0, 0.5, 'Y Label')"
      ]
     },
     "execution_count": 7,
     "metadata": {},
     "output_type": "execute_result"
    },
    {
     "data": {
      "image/png": "[encoded data removed]",
      "text/plain": [
       "<Figure size 432x288 with 1 Axes>"
      ]
     },
     "metadata": {
      "needs_background": "light"
     },
     "output_type": "display_data"
    }
   ],
   "source": [
    "fig = plt.figure()\n",
    "ax = fig.add_subplot()\n",
    "ax.scatter(X[:,0], y,color='green')\n",
    "ax.scatter(X[:,1], y,color='blue')\n",
    "plt.xlabel('X Label')\n",
    "plt.ylabel('Y Label')\n",
    "#plt.tight_layout()\n"
   ]
  },
  {
   "cell_type": "markdown",
   "metadata": {},
   "source": [
    "**Exercise :** Show correlation coefficients. "
   ]
  },
  {
   "cell_type": "code",
   "execution_count": 40,
   "metadata": {},
   "outputs": [
    {
     "name": "stdout",
     "output_type": "stream",
     "text": [
      "SpearmanrResult(correlation=0.2131413141314131, pvalue=0.033242149992682116)\n",
      "SpearmanrResult(correlation=0.9236483648364835, pvalue=1.3159076055708707e-42)\n"
     ]
    }
   ],
   "source": [
    "from scipy import stats as sc\n",
    "X0=X[:,0]\n",
    "X1=X[:,1]\n",
    "\n",
    "X0=X0.reshape(-1,1)\n",
    "X1=X1.reshape(-1,1)\n",
    "y\n",
    "#print(type(X0),type(X1))\n",
    "print(sc.stats.spearmanr(X0, y)) \n",
    "print(sc.stats.spearmanr(X1, y))\n"
   ]
  },
  {
   "cell_type": "markdown",
   "metadata": {},
   "source": [
    "### Split the dataset\n",
    "\n",
    "You now know the process!\n",
    "\n",
    "**Exercise :** Import `train_test_split` from `sklearn` and split the dataset and create the variables `X_train`, `X_test`, `y_train`, `y_test`."
   ]
  },
  {
   "cell_type": "code",
   "execution_count": 41,
   "metadata": {},
   "outputs": [],
   "source": [
    "from sklearn.model_selection import train_test_split\n",
    "X_train, X_test, y_train, y_test = train_test_split(X,y, random_state=33, test_size=0.2)"
   ]
  },
  {
   "cell_type": "markdown",
   "metadata": {},
   "source": [
    "##  Load and fit the model (with Sklearn)"
   ]
  },
  {
   "cell_type": "raw",
   "metadata": {},
   "source": [
    "# How to use `sklearn` now with multiple features ? Well, it's simple, you don't change anything. `sklearn` takes care of everything for you.\n",
    "\n",
    "1. Import `LinearRegression` from `sklearn`\n",
    "2. Create a `regressor` variable and instantiate your `LinearRegression` class.\n",
    "3. Train your model with `X_train` and `y_train`.\n",
    "4. Display the score of your model with `X_train` and `y_train`.\n",
    "5. Use the predict method of your model on your test dataset (`X_test`).\n",
    "6. Display the score of your model with `X_test` and `y_test`."
   ]
  },
  {
   "cell_type": "code",
   "execution_count": 46,
   "metadata": {},
   "outputs": [],
   "source": [
    "from sklearn.linear_model import LinearRegression\n",
    "#X_train=X_train.reshape(-1, 1)\n",
    "#y_train=y_train.reshape(-1, 1)\n",
    "regressor=LinearRegression().fit(X_train,y_train)\n"
   ]
  },
  {
   "cell_type": "code",
   "execution_count": 47,
   "metadata": {},
   "outputs": [
    {
     "data": {
      "text/plain": [
       "0.9307521675787522"
      ]
     },
     "execution_count": 47,
     "metadata": {},
     "output_type": "execute_result"
    }
   ],
   "source": [
    "regressor.score(X_train, y_train)"
   ]
  },
  {
   "cell_type": "code",
   "execution_count": 50,
   "metadata": {},
   "outputs": [
    {
     "data": {
      "text/plain": [
       "array([[ -75.1895544 ],\n",
       "       [ 256.41021968],\n",
       "       [  94.7652187 ],\n",
       "       [-127.35412047],\n",
       "       [-142.68099536],\n",
       "       [ 122.27849054],\n",
       "       [  16.12079053],\n",
       "       [  86.48069328],\n",
       "       [   5.23380785],\n",
       "       [ 225.35462338],\n",
       "       [  43.4111306 ],\n",
       "       [-101.06577175],\n",
       "       [  64.07865113],\n",
       "       [ -64.35542839],\n",
       "       [-100.18975527],\n",
       "       [  79.24982888],\n",
       "       [-144.54570881],\n",
       "       [ -33.00053604],\n",
       "       [-128.6018231 ],\n",
       "       [-125.0971861 ]])"
      ]
     },
     "execution_count": 50,
     "metadata": {},
     "output_type": "execute_result"
    }
   ],
   "source": [
    "ypred=regressor.predict(X_test)\n",
    "X_test\n",
    "ypred"
   ]
  },
  {
   "cell_type": "code",
   "execution_count": 51,
   "metadata": {},
   "outputs": [
    {
     "data": {
      "text/plain": [
       "Text(0, 0.5, 'Y Label')"
      ]
     },
     "execution_count": 51,
     "metadata": {},
     "output_type": "execute_result"
    },
    {
     "data": {
      "image/png": "[encoded data removed]",
      "text/plain": [
       "<Figure size 432x288 with 1 Axes>"
      ]
     },
     "metadata": {
      "needs_background": "light"
     },
     "output_type": "display_data"
    }
   ],
   "source": [
    "fig = plt.figure()\n",
    "ax = fig.add_subplot()\n",
    "ax.scatter(X_test[:,0], ypred,color='green')\n",
    "ax.scatter(X_test[:,1], ypred,color='blue')\n",
    "plt.xlabel('X Label')\n",
    "plt.ylabel('Y Label')\n",
    "#plt.tight_layout()"
   ]
  },
  {
   "cell_type": "markdown",
   "metadata": {},
   "source": [
    "And voilà !"
   ]
  },
  {
   "cell_type": "markdown",
   "metadata": {},
   "source": [
    "## From Scratch \n",
    "You will see that with matrices, it doesn't change much in the way of proceeding. Matrix writing, moreover, remains the same as simple regression. "
   ]
  },
  {
   "cell_type": "markdown",
   "metadata": {},
   "source": [
    "### Transform to matrix"
   ]
  },
  {
   "cell_type": "markdown",
   "metadata": {},
   "source": [
    "$$\n",
    "\\\\ Y = X \\cdot \\theta \\\\\n",
    "$$\n",
    "The $Y$ vector is the same too\n",
    "$$ Y =\n",
    "\\begin{bmatrix}\n",
    "y^{(1)}\\\\\n",
    "y^{(2)}\\\\\n",
    "y^{(3)}\\\\\n",
    "... \\\\\n",
    "y^{(m)}\\\\\n",
    "\\end{bmatrix}\n",
    "$$"
   ]
  },
  {
   "cell_type": "markdown",
   "metadata": {},
   "source": [
    "The $X$ matrix will have as many dimensions as there are features +1  (n+1)"
   ]
  },
  {
   "cell_type": "markdown",
   "metadata": {},
   "source": [
    "$$ X =\n",
    "\\begin{bmatrix}\n",
    "x^{(1)}_1, x^{(1)}_2, ..., x^{(m)}_{n}, 1\\\\\n",
    "x^{(2)}_1, x^{(2)}_2, ..., x^{(m)}_{n}, 1\\\\\n",
    "x^{(3)}_1, x^{(3)}_2, ..., x^{(m)}_{n}, 1\\\\\n",
    "x^{(m)}_1,x^{(m)}_2, ..., x^{(m)}_{n}, 1\\\\\n",
    "\\end{bmatrix}\n",
    "$$"
   ]
  },
  {
   "cell_type": "markdown",
   "metadata": {},
   "source": [
    "The theta vector will have as many lines as there are parameters +1 (for the constant). \n",
    "$$ \\theta =\n",
    "\\begin{bmatrix}\n",
    "a\\\\\n",
    "b\\\\\n",
    "c\\\\\n",
    "... \\\\\n",
    "\\end{bmatrix}\n",
    "$$"
   ]
  },
  {
   "cell_type": "markdown",
   "metadata": {},
   "source": [
    "For our case with our dataset, we can write it like this: "
   ]
  },
  {
   "cell_type": "markdown",
   "metadata": {},
   "source": [
    "$$\n",
    "\\begin{bmatrix}\n",
    "y^{(1)}\\\\\n",
    "y^{(2)}\\\\\n",
    "y^{(3)}\\\\\n",
    "... \\\\\n",
    "y^{(m)}\\\\\n",
    "\\end{bmatrix}\n",
    "=\n",
    "\\begin{bmatrix}\n",
    "x^{(1)}_1, x^{(1)}_2, 1\\\\\n",
    "x^{(2)}_1, x^{(2)}_2, 1\\\\\n",
    "x^{(3)}_1, x^{(3)}_2, 1\\\\\n",
    "x^{(m)}_1,x^{(m)}_2,  1\\\\\n",
    "\\end{bmatrix}\n",
    "\\cdot\n",
    "\\begin{bmatrix}\n",
    "a\\\\\n",
    "b\\\\\n",
    "c\\\\\n",
    "\\end{bmatrix}\n",
    "$$"
   ]
  },
  {
   "cell_type": "markdown",
   "metadata": {},
   "source": [
    "**Exercise :** Create a variable `X` which contains a matrix of shape `(100,3)` with two column's filled with values of our dataframe and then another one with 1's."
   ]
  },
  {
   "cell_type": "code",
   "execution_count": 80,
   "metadata": {},
   "outputs": [
    {
     "data": {
      "text/plain": [
       "array([ 1.05445173, -1.07075262,  1.        ])"
      ]
     },
     "execution_count": 80,
     "metadata": {},
     "output_type": "execute_result"
    }
   ],
   "source": [
    "import pandas as pd\n",
    "import numpy as np\n",
    "\n",
    "df = pd.read_csv('./data/data_multi.csv')\n",
    "\n",
    "X=np.array(df)\n",
    "X[:,2]=1\n",
    "X[0]\n"
   ]
  },
  {
   "cell_type": "markdown",
   "metadata": {},
   "source": [
    "**Exercise :** Check that your matrix is of shape `(100,3)`. "
   ]
  },
  {
   "cell_type": "code",
   "execution_count": 81,
   "metadata": {},
   "outputs": [
    {
     "data": {
      "text/plain": [
       "(100, 3)"
      ]
     },
     "execution_count": 81,
     "metadata": {},
     "output_type": "execute_result"
    }
   ],
   "source": [
    "X.shape"
   ]
  },
  {
   "cell_type": "markdown",
   "metadata": {},
   "source": [
    "**Exercise :** Create the theta vector with three random values. Your vector must be of shape \n",
    "`(3,1)`."
   ]
  },
  {
   "cell_type": "code",
   "execution_count": 82,
   "metadata": {},
   "outputs": [],
   "source": [
    "theta=np.array([[2],\n",
    "                [4],\n",
    "                [6]])"
   ]
  },
  {
   "cell_type": "markdown",
   "metadata": {},
   "source": [
    "## Create and fit the model\n",
    "### Define your model"
   ]
  },
  {
   "cell_type": "markdown",
   "metadata": {},
   "source": [
    "**Exercise :** Create a `model` function that receives as parameter `X` and `theta`. The function must return the computed predictions `y_pred`. This is exactly the same model as last time. "
   ]
  },
  {
   "cell_type": "code",
   "execution_count": 83,
   "metadata": {},
   "outputs": [],
   "source": [
    "def model (X, theta):\n",
    "    y_pred=X.dot(theta)\n",
    "    return y_pred"
   ]
  },
  {
   "cell_type": "markdown",
   "metadata": {},
   "source": [
    "### Cost function"
   ]
  },
  {
   "cell_type": "markdown",
   "metadata": {},
   "source": [
    "Well we have the model, the $\\theta$ vector, the $X$ matrix. What are we missing? The cost function of course!\n",
    "And you know what? This too is exactly the same MSE function from last time. \n",
    "\n",
    "$$MSE(\\theta) = \\frac {1}{2m}  \\sum (X \\cdot \\theta - Y)^2$$"
   ]
  },
  {
   "cell_type": "markdown",
   "metadata": {},
   "source": [
    "**Exercise :** Create a MSE function that receives as parameters `X`, `y` and `theta` using the example above."
   ]
  },
  {
   "cell_type": "code",
   "execution_count": 84,
   "metadata": {},
   "outputs": [],
   "source": [
    "def MSE(X,y,theta):\n",
    "    m=len(X)\n",
    "    M=(sum((X.dot(theta) - y)**2)) / (2*m) \n",
    "    return M\n"
   ]
  },
  {
   "cell_type": "markdown",
   "metadata": {},
   "source": [
    "### Gradient descent\n",
    "It's time to find the minimum of our function. Well again, nothing changes compared to the last time. \n",
    "\n",
    "$$ \\frac {\\partial MSE(\\theta) }{\\partial \\theta}  = \\frac {1}{m} X^T \\cdot (X \\cdot \\theta - Y)$$"
   ]
  },
  {
   "cell_type": "markdown",
   "metadata": {},
   "source": [
    "**Exercise :** Create a `grad` function that receives as parameter `X`, `y`, `theta`."
   ]
  },
  {
   "cell_type": "code",
   "execution_count": 85,
   "metadata": {},
   "outputs": [],
   "source": [
    "def grad(X, y, theta):\n",
    "    m = len(y)\n",
    "    return 1/m * X.T.dot(model(X, theta) - y)"
   ]
  },
  {
   "cell_type": "code",
   "execution_count": null,
   "metadata": {},
   "outputs": [],
   "source": []
  },
  {
   "cell_type": "markdown",
   "metadata": {},
   "source": [
    "**Exercise :**\n",
    "\n",
    "1. Create a `gradient_descent` function that receives as parameter `X`, `y`, `theta`, `learning_rate`, `n_iterations`.\n",
    "2. In the function, create a variable `cost_history` with a matrix filled with 0 and which has a length of `n_iterations`. We will use it to display the histogram of the model learning process.\n",
    "3. Create a loop that iterates up to `n_iterations`.\n",
    "4. In the loop, update `theta` with the formula of the gradient descent (the example above).\n",
    "5. In the loop, update `cost_history[i]` with the values of `MSE(X,y,theta)`.\n",
    "6. return `theta` and `cost_history`."
   ]
  },
  {
   "cell_type": "code",
   "execution_count": 86,
   "metadata": {},
   "outputs": [],
   "source": [
    "def gradient_descent(X,y,theta,learning_rate,n_iterations):\n",
    "    cost_history=np.zeros(n_iterations).reshape(n_iterations,1)\n",
    "    #print(cost_history)\n",
    "    for lp in range(n_iterations):\n",
    "        theta = theta - learning_rate * grad(X, y, theta)\n",
    "        cost_history[lp] = MSE(X,y,theta)\n",
    "        #print(\"###\",cost_history[lp])\n",
    "    return theta,cost_history"
   ]
  },
  {
   "cell_type": "markdown",
   "metadata": {},
   "source": [
    "### Train your model "
   ]
  },
  {
   "cell_type": "markdown",
   "metadata": {},
   "source": [
    "**Exercise :** Create variables `n_iterations` and `learning_rate`."
   ]
  },
  {
   "cell_type": "code",
   "execution_count": 87,
   "metadata": {},
   "outputs": [],
   "source": [
    "n_iterations=1000\n",
    "learning_rate=0.01"
   ]
  },
  {
   "cell_type": "markdown",
   "metadata": {},
   "source": [
    "**Exercise:** Create variables `theta_final`, `cost_history` and call `gradient_descent()`."
   ]
  },
  {
   "cell_type": "code",
   "execution_count": 88,
   "metadata": {},
   "outputs": [],
   "source": [
    "theta_final,cost_history=gradient_descent(X,y,theta,learning_rate,n_iterations)"
   ]
  },
  {
   "cell_type": "code",
   "execution_count": 89,
   "metadata": {},
   "outputs": [
    {
     "data": {
      "text/plain": [
       "array([[27.59057925],\n",
       "       [99.50456686],\n",
       "       [-1.53933749]])"
      ]
     },
     "execution_count": 89,
     "metadata": {},
     "output_type": "execute_result"
    }
   ],
   "source": [
    "theta_final\n",
    "#cost_history"
   ]
  },
  {
   "cell_type": "markdown",
   "metadata": {},
   "source": [
    "**Exercise :** \n",
    "Create a `predictions` variable that contains `model(X, theta_final)`.\n",
    "\n"
   ]
  },
  {
   "cell_type": "code",
   "execution_count": 90,
   "metadata": {},
   "outputs": [],
   "source": [
    "predictions=model(X, theta_final)"
   ]
  },
  {
   "cell_type": "markdown",
   "metadata": {},
   "source": [
    "**Exercise :** Plot your predictions in 3D and the true values of the dataset."
   ]
  },
  {
   "cell_type": "code",
   "execution_count": 96,
   "metadata": {},
   "outputs": [
    {
     "data": {
      "image/png": "[encoded data removed]",
      "text/plain": [
       "<Figure size 432x288 with 1 Axes>"
      ]
     },
     "metadata": {
      "needs_background": "light"
     },
     "output_type": "display_data"
    }
   ],
   "source": [
    "import matplotlib.pyplot as plt\n",
    "\n",
    "j=0\n",
    "k=180\n",
    "\n",
    "fig = plt.figure()\n",
    "ax = fig.add_subplot(projection='3d')\n",
    "ax.scatter(X[:,0], X[:,1], y,color='yellow')\n",
    "\n",
    "ax.scatter(X[:,0], X[:,1], predictions,color='blue')\n",
    "ax.set_xlabel('X Label')\n",
    "ax.set_ylabel('Y Label')\n",
    "ax.set_zlabel('Z Label')\n",
    "\n",
    "ax.view_init(j,k)"
   ]
  },
  {
   "cell_type": "markdown",
   "metadata": {},
   "source": [
    "**Exercise :** Plot `cost_history`."
   ]
  },
  {
   "cell_type": "code",
   "execution_count": 97,
   "metadata": {},
   "outputs": [
    {
     "data": {
      "text/plain": [
       "[<matplotlib.lines.Line2D at 0x1785dabefd0>]"
      ]
     },
     "execution_count": 97,
     "metadata": {},
     "output_type": "execute_result"
    },
    {
     "data": {
      "image/png": "[encoded data removed]",
      "text/plain": [
       "<Figure size 432x288 with 1 Axes>"
      ]
     },
     "metadata": {
      "needs_background": "light"
     },
     "output_type": "display_data"
    }
   ],
   "source": [
    "plt.plot(cost_history)"
   ]
  },
  {
   "cell_type": "markdown",
   "metadata": {},
   "source": [
    "### Evaluation"
   ]
  },
  {
   "cell_type": "code",
   "execution_count": 99,
   "metadata": {},
   "outputs": [],
   "source": [
    "def coef_determination(y, pred):\n",
    "    u = ((y - pred)**2).sum()\n",
    "    v = ((y - y.mean())**2).sum()\n",
    "    return 1 - u/v"
   ]
  },
  {
   "cell_type": "code",
   "execution_count": 100,
   "metadata": {},
   "outputs": [
    {
     "data": {
      "text/plain": [
       "0.9320499569964104"
      ]
     },
     "execution_count": 100,
     "metadata": {},
     "output_type": "execute_result"
    }
   ],
   "source": [
    "coef_determination(y, predictions)"
   ]
  },
  {
   "cell_type": "markdown",
   "metadata": {},
   "source": [
    "### Congratulations !\n",
    "\n",
    "You are now able to create a multiple variable regression model from scratch, well, from the matrix!"
   ]
  },
  {
   "cell_type": "markdown",
   "metadata": {},
   "source": [
    "<img src=\"https://media.giphy.com/media/W9lzJDwciz6bS/giphy.gif\">"
   ]
  }
 ],
 "metadata": {
  "kernelspec": {
   "display_name": "Python 3 (ipykernel)",
   "language": "python",
   "name": "python3"
  },
  "language_info": {
   "codemirror_mode": {
    "name": "ipython",
    "version": 3
   },
   "file_extension": ".py",
   "mimetype": "text/x-python",
   "name": "python",
   "nbconvert_exporter": "python",
   "pygments_lexer": "ipython3",
   "version": "3.9.7"
  }
 },
 "nbformat": 4,
 "nbformat_minor": 4
}
